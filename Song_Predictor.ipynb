{
  "nbformat": 4,
  "nbformat_minor": 0,
  "metadata": {
    "colab": {
      "name": "Song Predictor.ipynb",
      "provenance": [],
      "collapsed_sections": [],
      "authorship_tag": "ABX9TyOqMBLBCK6x7QMv3Y/srY4H",
      "include_colab_link": true
    },
    "kernelspec": {
      "name": "python3",
      "display_name": "Python 3"
    }
  },
  "cells": [
    {
      "cell_type": "markdown",
      "metadata": {
        "id": "view-in-github",
        "colab_type": "text"
      },
      "source": [
        "<a href=\"https://colab.research.google.com/github/Kushagratandon12/Machine-Learning-Projects/blob/master/Song_Predictor.ipynb\" target=\"_parent\"><img src=\"https://colab.research.google.com/assets/colab-badge.svg\" alt=\"Open In Colab\"/></a>"
      ]
    },
    {
      "cell_type": "code",
      "metadata": {
        "id": "Phsg48DNL_FY"
      },
      "source": [
        "import tensorflow as tf\n",
        "from tensorflow.keras.preprocessing.sequence import pad_sequences\n",
        "from tensorflow.keras.layers import Embedding, LSTM, Dense, Bidirectional,Dropout\n",
        "from tensorflow.keras.preprocessing.text import Tokenizer\n",
        "from tensorflow.keras.models import Sequential\n",
        "from tensorflow.keras.optimizers import Adam\n",
        "import numpy as np \n"
      ],
      "execution_count": null,
      "outputs": []
    },
    {
      "cell_type": "code",
      "metadata": {
        "id": "sKBdk5eUOLa5",
        "colab": {
          "base_uri": "https://localhost:8080/"
        },
        "outputId": "c41d499b-bf65-485f-ce69-32149d9a769a"
      },
      "source": [
        "data = open('/content/Hindi Songs.txt').read()\n",
        "print(len(data))\n",
        "corpus = data.lower().split('\\n')"
      ],
      "execution_count": null,
      "outputs": [
        {
          "output_type": "stream",
          "text": [
            "9977\n"
          ],
          "name": "stdout"
        }
      ]
    },
    {
      "cell_type": "code",
      "metadata": {
        "id": "R60KXyBDOPVP",
        "colab": {
          "base_uri": "https://localhost:8080/"
        },
        "outputId": "e5330a76-323f-47dd-f7d0-3cbadfec901f"
      },
      "source": [
        "tokenizer = Tokenizer()\n",
        "tokenizer.fit_on_texts(corpus)\n",
        "total_words = len(tokenizer.word_index)+1\n",
        "print(total_words)\n",
        "print(tokenizer.word_index)"
      ],
      "execution_count": null,
      "outputs": [
        {
          "output_type": "stream",
          "text": [
            "683\n",
            "{'hai': 1, 'na': 2, 'bhi': 3, 'main': 4, 'se': 5, 'mein': 6, 'ki': 7, 'tu': 8, 'tere': 9, 'jo': 10, 'ke': 11, 'teri': 12, 'ho': 13, 'tum': 14, 'hi': 15, 'kyun': 16, 'yeh': 17, 'meri': 18, 'hain': 19, 'toh': 20, 'jaane': 21, 'dil': 22, 'ko': 23, 'tujhe': 24, 'tera': 25, 'ab': 26, 'mera': 27, 'hua': 28, 'mujhe': 29, 'kabhi': 30, 'hum': 31, 'hoon': 32, 'kaise': 33, 'mere': 34, 'ye': 35, 'zara': 36, 'khamoshiyan': 37, 'nahi': 38, 'mujhko': 39, 'gaya': 40, 'kya': 41, 'jaaye': 42, 'baatein': 43, 'jaan': 44, 'lage': 45, 'bin': 46, 'baat': 47, 'tujhko': 48, 'phir': 49, 'woh': 50, 'koi': 51, 'aaj': 52, 'kahin': 53, 'aaye': 54, 'thi': 55, 'to': 56, 'kitna': 57, 'ne': 58, 'khud': 59, 'le': 60, 'jaaun': 61, 'door': 62, 'bas': 63, 'sa': 64, 'loon': 65, 'ik': 66, 'kal': 67, 'kahaan': 68, 'ishq': 69, 'har': 70, 'pe': 71, 'keh': 72, 'rahe': 73, 'lenge': 74, 'inko': 75, 'ka': 76, 're': 77, 'hawayein': 78, 'karo': 79, 'faasle': 80, 'aa': 81, 'khwaab': 82, 'de': 83, 'jee': 84, 'bina': 85, 'pal': 86, 'liye': 87, 'duniya': 88, 'jaana': 89, 'nazron': 90, 'nahin': 91, 'jaayenge': 92, 'naa': 93, 'raha': 94, 'bhar': 95, 'tumhe': 96, 'sapne': 97, 'zindagi': 98, 'aao': 99, 'rakhna': 100, 'maine': 101, 'haan': 102, 'tha': 103, 'baahein': 104, 'toone': 105, 'apni': 106, 'mila': 107, 'tujhpe': 108, 'sabse': 109, 'juda': 110, 'tumse': 111, 'doon': 112, 'bewajah': 113, 'sath': 114, 'karaan': 115, 'baar': 116, 'kahan': 117, 'dena': 118, 'ankhon': 119, 'hoga': 120, 'khudko': 121, 'tujhse': 122, 'diya': 123, 'lamha': 124, 'naam': 125, 'saath': 126, 'taraf': 127, 'hoti': 128, 'lein': 129, 'pagal': 130, 'laga': 131, 'subah': 132, 'karne': 133, 'kehne': 134, 'doh': 135, 'zaraa': 136, 'khaatir': 137, 'aankhein': 138, 'kaam': 139, 'kiya': 140, 'sang': 141, 'jab': 142, 'pehle': 143, 'hota': 144, 'maana': 145, 'saari': 146, 'sach': 147, 'kasam': 148, 'khabar': 149, 'dhalein': 150, 'zid': 151, 'e': 152, 'thodi': 153, 'jagah': 154, 'paas': 155, 'reh': 156, 'aur': 157, 'khushi': 158, 'deke': 159, 'dard': 160, 'jud': 161, 'yahan': 162, 'yakeen': 163, 'rahun': 164, 'hoke': 165, 'itna': 166, 'dekhun': 167, 'yaara': 168, 'aata': 169, 'abhi': 170, 'sawal': 171, 'thoda': 172, 'aag': 173, 'pyar': 174, 'haar': 175, 'raatein': 176, 'bata': 177, 'khayalon': 178, 'sake': 179, 'khwabon': 180, 'dekhe': 181, 'maane': 182, 'manaaun': 183, 'roke': 184, 'aansu': 185, 'palkon': 186, 'kaisi': 187, 'haathon': 188, 'do': 189, 'milti': 190, 'jahaan': 191, 'judaa': 192, 'waqt': 193, 'sabhi': 194, 'jiya': 195, 'yun': 196, 'gham': 197, 'jaati': 198, 'din': 199, 'bethi': 200, 'lafzon': 201, 'ya': 202, 'bedard': 203, 'thehra': 204, 'hans': 205, 'sunne': 206, 'paaye': 207, 'tujhme': 208, 'rahoon': 209, 'milta': 210, 'beqarar': 211, 'khamoshiyaan': 212, 'bataaun': 213, 'dhun': 214, 'haa': 215, 'khamosh': 216, 'zubaan': 217, 'dilon': 218, 'ehsaas': 219, 'rahaa': 220, 'jaye': 221, 'milke': 222, 'kam': 223, 'baithe': 224, 'mann': 225, 'tale': 226, 'wohi': 227, 'par': 228, 'wajah': 229, 'o': 230, 'jaa': 231, 'tham': 232, 'mile': 233, 'hone': 234, 'sanjota': 235, 'pyaar': 236, 'chale': 237, 'mausam': 238, 'baahon': 239, 'moh': 240, 'toah': 241, 'kis': 242, 'tarah': 243, 'chuna': 244, 'ankaha': 245, 'sab': 246, 'raat': 247, 'maan': 248, 'aankhon': 249, 'meelon': 250, 'bann': 251, 'dum': 252, 'chahne': 253, 'tumhein': 254, 'badh': 255, 'yehi': 256, 'tak': 257, 'jaate': 258, 'raho': 259, 'jane': 260, 'lo': 261, 'dede': 262, 'sunu': 263, 'jaun': 264, 'dilaun': 265, 'sada': 266, 'chaahta': 267, 'hu': 268, 'besahara': 269, 'jitni': 270, 'dafa': 271, 'rooh': 272, 'bekhayali': 273, 'khayal': 274, 'bichadna': 275, 'zaruri': 276, 'nazdeekiyon': 277, 'behisaab': 278, 'hisse': 279, 'bemisaal': 280, 'gurur': 281, 'fasla': 282, 'mita': 283, 'tod': 284, 'judayi': 285, 'khafa': 286, 'apne': 287, 'aap': 288, 'malaal': 289, 'tadpan': 290, 'uljhan': 291, 'an': 292, 'ba': 293, 'bante': 294, 'khuda': 295, 'log': 296, 'baag': 297, 'jungle': 298, 'jaloon': 299, 'nakaam': 300, 'khush': 301, 'inn': 302, 'jaisa': 303, 'banun': 304, 'dengi': 305, 'needon': 306, 'bhoolun': 307, 'tenu': 308, 'vich': 309, 'sau': 310, 'jaave': 311, 'je': 312, 'mainu': 313, 'chhad': 314, 'maut': 315, 'da': 316, 'intezaar': 317, 'chod': 318, 'di': 319, 'sans': 320, 'aake': 321, 'rukhe': 322, 'chahta': 323, 'soch': 324, 'safar': 325, 'aakhiri': 326, 'jeena': 327, 'mumkin': 328, 'khwahishein': 329, 'chehre': 330, 'hatein': 331, 'neendon': 332, 'li': 333, 'karwatein': 334, 'saamne': 335, 'bhool': 336, 'ruke': 337, 'naina': 338, 'ore': 339, 'inhe': 340, 'rehna': 341, 'kaatta': 342, 'laakhon': 343, 'lamhein': 344, 'katte': 345, 'saaye': 346, 'yaadon': 347, 'hatte': 348, 'sookh': 349, 'gaye': 350, 'judai': 351, 'baadal': 352, 'chhantte': 353, 'hasaaun': 354, 'lakeerein': 355, 'jisko': 356, 'pata': 357, 'bebasi': 358, 'dhadkano': 359, 'milkar': 360, 'tanha': 361, 'sakte': 362, 'wajood': 363, 'gar': 364, 'kyunki': 365, 'chain': 366, 'aashiqui': 367, 'rishta': 368, 'kaisa': 369, 'gawara': 370, 'roz': 371, 'jeete': 372, 'tujh': 373, 'saans': 374, 'wafa': 375, 'sambhala': 376, 'saare': 377, 'ghamon': 378, 'nikala': 379, 'naseeb': 380, 'paake': 381, 'adhoora': 382, 'thaher': 383, 'jao': 384, 'sambhal': 385, 'roka': 386, 'karu': 387, 'phisal': 388, 'tumko': 389, 'bharun': 390, 'bole': 391, 'karoon': 392, 'chahaton': 393, 'dhal': 394, 'hun': 395, 'palke': 396, 'jhapakte': 397, 'nikal': 398, 'bhaagi': 399, 'phiroon': 400, 'sapnon': 401, 'raazi': 402, 'lagta': 403, 'dhokebaazi': 404, 'gungunaaye': 405, 'muskuraaye': 406, 'palkein': 407, 'chamakne': 408, 'lagi': 409, 'chupaaye': 410, 'behki': 411, 'si': 412, 'kar': 413, 'aankhen': 414, 'behoshiyan': 415, 'taras': 416, 'aayegi': 417, 'shaamein': 418, 'aayengi': 419, 'nazdeekiyaan': 420, 'khoya': 421, 'mujhme': 422, 'khoyi': 423, 'dhoondh': 424, 'mujhse': 425, 'milenge': 426, 'awaaz': 427, 'chukar': 428, 'khill': 429, 'jaayengi': 430, 'ghar': 431, 'bulaao': 432, 'lipti': 433, 'hui': 434, 'uss': 435, 'gali': 436, 'zamaane': 437, 'guzre': 438, 'zamaana': 439, 'sammay': 440, 'wahin': 441, 'ek': 442, 'saaz': 443, 'laao': 444, 'alfaaz': 445, 'gunguna': 446, 'nadiya': 447, 'paani': 448, 'behta': 449, 'yahaan': 450, 'khili': 451, 'chandani': 452, 'chipi': 453, 'lakh': 454, 'baarish': 455, 'boondon': 456, 'sulagte': 457, 'uthta': 458, 'dhuaa': 459, 'aakaash': 460, 'udne': 461, 'khamoshiya': 462, 'mehsoos': 463, 'bekarar': 464, 'bhoolna': 465, 'sochana': 466, 'mange': 467, 'dua': 468, 'humdard': 469, 'humdum': 470, 'humse': 471, 'ajnabee': 472, 'jagi': 473, 'royi': 474, 'raato': 475, 'ghadi': 476, 'lagti': 477, 'kami': 478, 'accha': 479, 'chalta': 480, 'hoonduaaon': 481, 'yaad': 482, 'zikr': 483, 'swaad': 484, 'sandookon': 485, 'acche': 486, 'chitthi': 487, 'taaron': 488, 'salaam': 489, 'andhera': 490, 'liya': 491, 'ujla': 492, 'sitaara': 493, 'qisse': 494, 'humaare': 495, 'nazdeeqiyon': 496, 'kitni': 497, 'dafaa': 498, 'aangan': 499, 'me': 500, 'shaam': 501, 'rukh': 502, 'apna': 503, 'raasta': 504, 'mod': 505, 'chalaa': 506, 'chandan': 507, 'khushboo': 508, 'chhod': 509, 'chala': 510, 'maaya': 511, 'rakh': 512, 'takiye': 513, 'sachi': 514, 'mohabbat': 515, 'shayad': 516, 'jisme': 517, 'junoon': 518, 'yaari': 519, 'sukoon': 520, 'judaai': 521, 'rab': 522, 'paigham': 523, 'muskurane': 524, 'gungunane': 525, 'lamhe': 526, 'mat': 527, 'umr': 528, 'piya': 529, 'dhoop': 530, 'chhaanv': 531, 'laana': 532, 'khwahishon': 533, 'baarishon': 534, 'bheeg': 535, 'usme': 536, 'kaat': 537, 'khushiyaan': 538, 'thode': 539, 'baant': 540, 'khone': 541, 'waise': 542, 'raaton': 543, 'aksar': 544, 'chahat': 545, 'dhadkan': 546, 'gaati': 547, 'iss': 548, 'chhu': 549, 'tarasti': 550, 'pukara': 551, 'shabnam': 552, 'boonde': 553, 'barasti': 554, 'ishara': 555, 'daale': 556, 'jaise': 557, 'dhaage': 558, 'ungaliyon': 559, 'ja': 560, 'uljhe': 561, 'laage': 562, 'girha': 563, 'suljhe': 564, 'suna': 565, 'chadhe': 566, 'aana': 567, 'dono': 568, 'mil': 569, 'shaamon': 570, 'jhoothi': 571, 'kuchh': 572, 'tez': 573, 'bhara': 574, 'behte': 575, 'awara': 576, 'saasein': 577, 'bataayein': 578, 'chahe': 579, 'bataa': 580, 'dilo': 581, 'dekho': 582, 'baaki': 583, 'samjhaye': 584, 'anjaane': 585, 'silsile': 586, 'wajaaa': 587, 'aas': 588, 'bhiii': 589, 'kee': 590, 'aise': 591, 'humko': 592, 'gile': 593, 'afsos': 594, 'rota': 595, 'pagla': 596, 'dariya': 597, 'beh': 598, 'ibaadat': 599, 'saunp': 600, 'zarurat': 601, 'jayenge': 602, 'khatam': 603, 'chaahne': 604, 'chalne': 605, 'raahein': 606, 'dhadakne': 607, 'tadapne': 608, 'fitoor': 609, 'chadh': 610, 'laqeerein': 611, 'kehti': 612, 'tujhi': 613, 'rehti': 614, 'labon': 615, 'likhi': 616, 'khwaahish': 617, 'ikk': 618, 'paane': 619, 'the': 620, 'dikhne': 621, 'lena': 622, 'pehchaanu': 623, 'jaanu': 624, 'kat’ti': 625, 'bechain': 626, 'hokedin': 627, 'guzarne': 628, 'banaati': 629, 'yaadein': 630, 'kab': 631, 'inhi': 632, 'shamein': 633, 'shehar': 634, 'aabaad': 635, 'haq': 636, 'aate': 637, 'deti': 638, 'sadayein': 639, 'batayein': 640, 'jaayein': 641, 'pataa…': 642, 'chehra': 643, 'hogi': 644, 'wafayein': 645, 'maangi': 646, 'duaayein': 647, 'khaab': 648, 'sawaal': 649, 'karke': 650, 'jawaab': 651, 'karna': 652, 'chaahe': 653, 'guzarna': 654, 'chahiye': 655, 'kuch': 656, 'zyada': 657, 'yunhi': 658, 'pehlu': 659, 'haaye': 660, 'mar': 661, 'lutt': 662, 'aisi': 663, 'tumhi': 664, 'socho': 665, 'uth': 666, 'itni': 667, 'qaid': 668, 'magar': 669, 'chand': 670, 'ghadiyan': 671, 'aazaad': 672, 'khokar': 673, 'umra': 674, 'taraste': 675, 'masoom': 676, 'rangeen': 677, 'sama': 678, 'husn': 679, 'mairaaj': 680, 'rok': 681, 'zidd': 682}\n"
          ],
          "name": "stdout"
        }
      ]
    },
    {
      "cell_type": "code",
      "metadata": {
        "id": "SrJXm1v7P9Tr"
      },
      "source": [
        "#creating a list on input sequence \n",
        "input_sequences = []\n",
        "for line in corpus:\n",
        "\ttoken_list = tokenizer.texts_to_sequences([line])[0]\n",
        "\tfor i in range(1, len(token_list)):\n",
        "\t\tn_gram_sequence = token_list[:i+1]\n",
        "\t\tinput_sequences.append(n_gram_sequence)"
      ],
      "execution_count": null,
      "outputs": []
    },
    {
      "cell_type": "code",
      "metadata": {
        "id": "gG4HiCpJR-24",
        "colab": {
          "base_uri": "https://localhost:8080/"
        },
        "outputId": "0b1493f6-2524-4c9b-e44f-c1cc76485e24"
      },
      "source": [
        "print(tokenizer.texts_to_sequences([line])[0])"
      ],
      "execution_count": null,
      "outputs": [
        {
          "output_type": "stream",
          "text": [
            "[]\n"
          ],
          "name": "stdout"
        }
      ]
    },
    {
      "cell_type": "code",
      "metadata": {
        "id": "HKIGPIAVSwWR"
      },
      "source": [
        "# pad sequences \n",
        "max_sequence_len = max([len(x) for x in input_sequences])\n",
        "input_sequences = np.array(pad_sequences(input_sequences, maxlen=max_sequence_len, padding='pre'))"
      ],
      "execution_count": null,
      "outputs": []
    },
    {
      "cell_type": "code",
      "metadata": {
        "id": "vkAKP5xSTkiR"
      },
      "source": [
        "# create predictors and label\n",
        "xs, labels = input_sequences[:,:-1],input_sequences[:,-1]\n",
        "ys = tf.keras.utils.to_categorical(labels, num_classes=total_words)"
      ],
      "execution_count": null,
      "outputs": []
    },
    {
      "cell_type": "code",
      "metadata": {
        "id": "qiyANoboTlGq",
        "colab": {
          "base_uri": "https://localhost:8080/"
        },
        "outputId": "3c08e31a-2a86-4074-a84c-e6b2bab43ac6"
      },
      "source": [
        "print(xs[20])\n",
        "print(ys[20])"
      ],
      "execution_count": null,
      "outputs": [
        {
          "output_type": "stream",
          "text": [
            "[  0   0   0   0   0   0   0   0   0   0   0   0   0   0 106 158 159   4]\n",
            "[0. 0. 0. 0. 0. 0. 0. 0. 0. 0. 0. 0. 0. 0. 0. 0. 0. 0. 0. 0. 0. 0. 0. 0.\n",
            " 1. 0. 0. 0. 0. 0. 0. 0. 0. 0. 0. 0. 0. 0. 0. 0. 0. 0. 0. 0. 0. 0. 0. 0.\n",
            " 0. 0. 0. 0. 0. 0. 0. 0. 0. 0. 0. 0. 0. 0. 0. 0. 0. 0. 0. 0. 0. 0. 0. 0.\n",
            " 0. 0. 0. 0. 0. 0. 0. 0. 0. 0. 0. 0. 0. 0. 0. 0. 0. 0. 0. 0. 0. 0. 0. 0.\n",
            " 0. 0. 0. 0. 0. 0. 0. 0. 0. 0. 0. 0. 0. 0. 0. 0. 0. 0. 0. 0. 0. 0. 0. 0.\n",
            " 0. 0. 0. 0. 0. 0. 0. 0. 0. 0. 0. 0. 0. 0. 0. 0. 0. 0. 0. 0. 0. 0. 0. 0.\n",
            " 0. 0. 0. 0. 0. 0. 0. 0. 0. 0. 0. 0. 0. 0. 0. 0. 0. 0. 0. 0. 0. 0. 0. 0.\n",
            " 0. 0. 0. 0. 0. 0. 0. 0. 0. 0. 0. 0. 0. 0. 0. 0. 0. 0. 0. 0. 0. 0. 0. 0.\n",
            " 0. 0. 0. 0. 0. 0. 0. 0. 0. 0. 0. 0. 0. 0. 0. 0. 0. 0. 0. 0. 0. 0. 0. 0.\n",
            " 0. 0. 0. 0. 0. 0. 0. 0. 0. 0. 0. 0. 0. 0. 0. 0. 0. 0. 0. 0. 0. 0. 0. 0.\n",
            " 0. 0. 0. 0. 0. 0. 0. 0. 0. 0. 0. 0. 0. 0. 0. 0. 0. 0. 0. 0. 0. 0. 0. 0.\n",
            " 0. 0. 0. 0. 0. 0. 0. 0. 0. 0. 0. 0. 0. 0. 0. 0. 0. 0. 0. 0. 0. 0. 0. 0.\n",
            " 0. 0. 0. 0. 0. 0. 0. 0. 0. 0. 0. 0. 0. 0. 0. 0. 0. 0. 0. 0. 0. 0. 0. 0.\n",
            " 0. 0. 0. 0. 0. 0. 0. 0. 0. 0. 0. 0. 0. 0. 0. 0. 0. 0. 0. 0. 0. 0. 0. 0.\n",
            " 0. 0. 0. 0. 0. 0. 0. 0. 0. 0. 0. 0. 0. 0. 0. 0. 0. 0. 0. 0. 0. 0. 0. 0.\n",
            " 0. 0. 0. 0. 0. 0. 0. 0. 0. 0. 0. 0. 0. 0. 0. 0. 0. 0. 0. 0. 0. 0. 0. 0.\n",
            " 0. 0. 0. 0. 0. 0. 0. 0. 0. 0. 0. 0. 0. 0. 0. 0. 0. 0. 0. 0. 0. 0. 0. 0.\n",
            " 0. 0. 0. 0. 0. 0. 0. 0. 0. 0. 0. 0. 0. 0. 0. 0. 0. 0. 0. 0. 0. 0. 0. 0.\n",
            " 0. 0. 0. 0. 0. 0. 0. 0. 0. 0. 0. 0. 0. 0. 0. 0. 0. 0. 0. 0. 0. 0. 0. 0.\n",
            " 0. 0. 0. 0. 0. 0. 0. 0. 0. 0. 0. 0. 0. 0. 0. 0. 0. 0. 0. 0. 0. 0. 0. 0.\n",
            " 0. 0. 0. 0. 0. 0. 0. 0. 0. 0. 0. 0. 0. 0. 0. 0. 0. 0. 0. 0. 0. 0. 0. 0.\n",
            " 0. 0. 0. 0. 0. 0. 0. 0. 0. 0. 0. 0. 0. 0. 0. 0. 0. 0. 0. 0. 0. 0. 0. 0.\n",
            " 0. 0. 0. 0. 0. 0. 0. 0. 0. 0. 0. 0. 0. 0. 0. 0. 0. 0. 0. 0. 0. 0. 0. 0.\n",
            " 0. 0. 0. 0. 0. 0. 0. 0. 0. 0. 0. 0. 0. 0. 0. 0. 0. 0. 0. 0. 0. 0. 0. 0.\n",
            " 0. 0. 0. 0. 0. 0. 0. 0. 0. 0. 0. 0. 0. 0. 0. 0. 0. 0. 0. 0. 0. 0. 0. 0.\n",
            " 0. 0. 0. 0. 0. 0. 0. 0. 0. 0. 0. 0. 0. 0. 0. 0. 0. 0. 0. 0. 0. 0. 0. 0.\n",
            " 0. 0. 0. 0. 0. 0. 0. 0. 0. 0. 0. 0. 0. 0. 0. 0. 0. 0. 0. 0. 0. 0. 0. 0.\n",
            " 0. 0. 0. 0. 0. 0. 0. 0. 0. 0. 0. 0. 0. 0. 0. 0. 0. 0. 0. 0. 0. 0. 0. 0.\n",
            " 0. 0. 0. 0. 0. 0. 0. 0. 0. 0. 0.]\n"
          ],
          "name": "stdout"
        }
      ]
    },
    {
      "cell_type": "code",
      "metadata": {
        "id": "Tr0hux76ToN7",
        "colab": {
          "base_uri": "https://localhost:8080/"
        },
        "outputId": "d1d7de18-f7c1-448b-edce-9ebc6fc17018"
      },
      "source": [
        "model = Sequential()\n",
        "model.add(Embedding(total_words, 100, input_length=max_sequence_len-1))\n",
        "model.add(Bidirectional(LSTM(128,go_backwards=True,return_sequences=True)))\n",
        "model.add(Bidirectional(LSTM(256,go_backwards=True)))\n",
        "#model.add(Dropout(0.015))\n",
        "model.add(Dense(total_words, activation='softmax'))\n",
        "adam = Adam(lr=0.01)\n",
        "model.summary()\n",
        "model.compile(loss='categorical_crossentropy', optimizer=adam, metrics=['accuracy'])\n"
      ],
      "execution_count": null,
      "outputs": [
        {
          "output_type": "stream",
          "text": [
            "Model: \"sequential\"\n",
            "_________________________________________________________________\n",
            "Layer (type)                 Output Shape              Param #   \n",
            "=================================================================\n",
            "embedding (Embedding)        (None, 18, 100)           68300     \n",
            "_________________________________________________________________\n",
            "bidirectional (Bidirectional (None, 18, 256)           234496    \n",
            "_________________________________________________________________\n",
            "bidirectional_1 (Bidirection (None, 512)               1050624   \n",
            "_________________________________________________________________\n",
            "dense (Dense)                (None, 683)               350379    \n",
            "=================================================================\n",
            "Total params: 1,703,799\n",
            "Trainable params: 1,703,799\n",
            "Non-trainable params: 0\n",
            "_________________________________________________________________\n"
          ],
          "name": "stdout"
        }
      ]
    },
    {
      "cell_type": "code",
      "metadata": {
        "id": "zj-Mjq38q31o",
        "colab": {
          "base_uri": "https://localhost:8080/"
        },
        "outputId": "679dda5d-4074-4e18-dcbc-66922940c8b8"
      },
      "source": [
        "#earlystop = EarlyStopping(monitor='accuracy', min_delta=0, patience=5, verbose=0, mode='auto')\n",
        "history = model.fit(xs, ys, epochs=100, verbose=1)"
      ],
      "execution_count": null,
      "outputs": [
        {
          "output_type": "stream",
          "text": [
            "Epoch 1/100\n",
            "53/53 [==============================] - 18s 227ms/step - loss: 6.4120 - accuracy: 0.0193\n",
            "Epoch 2/100\n",
            "53/53 [==============================] - 12s 223ms/step - loss: 5.8064 - accuracy: 0.0508\n",
            "Epoch 3/100\n",
            "53/53 [==============================] - 12s 225ms/step - loss: 5.3098 - accuracy: 0.0692\n",
            "Epoch 4/100\n",
            "53/53 [==============================] - 12s 223ms/step - loss: 4.7343 - accuracy: 0.0870\n",
            "Epoch 5/100\n",
            "53/53 [==============================] - 12s 223ms/step - loss: 3.8499 - accuracy: 0.1849\n",
            "Epoch 6/100\n",
            "53/53 [==============================] - 12s 224ms/step - loss: 3.0937 - accuracy: 0.2957\n",
            "Epoch 7/100\n",
            "53/53 [==============================] - 12s 223ms/step - loss: 2.2775 - accuracy: 0.4557\n",
            "Epoch 8/100\n",
            "53/53 [==============================] - 12s 221ms/step - loss: 1.5650 - accuracy: 0.5896\n",
            "Epoch 9/100\n",
            "53/53 [==============================] - 12s 220ms/step - loss: 0.9603 - accuracy: 0.7624\n",
            "Epoch 10/100\n",
            "53/53 [==============================] - 12s 223ms/step - loss: 0.7105 - accuracy: 0.8301\n",
            "Epoch 11/100\n",
            "53/53 [==============================] - 12s 222ms/step - loss: 0.4542 - accuracy: 0.8943\n",
            "Epoch 12/100\n",
            "53/53 [==============================] - 12s 224ms/step - loss: 0.3441 - accuracy: 0.9085\n",
            "Epoch 13/100\n",
            "53/53 [==============================] - 12s 220ms/step - loss: 0.2947 - accuracy: 0.9161\n",
            "Epoch 14/100\n",
            "53/53 [==============================] - 12s 225ms/step - loss: 0.1942 - accuracy: 0.9401\n",
            "Epoch 15/100\n",
            "53/53 [==============================] - 12s 222ms/step - loss: 0.1822 - accuracy: 0.9434\n",
            "Epoch 16/100\n",
            "53/53 [==============================] - 12s 222ms/step - loss: 0.1726 - accuracy: 0.9421\n",
            "Epoch 17/100\n",
            "53/53 [==============================] - 12s 229ms/step - loss: 0.1543 - accuracy: 0.9439\n",
            "Epoch 18/100\n",
            "53/53 [==============================] - 12s 226ms/step - loss: 0.1272 - accuracy: 0.9492\n",
            "Epoch 19/100\n",
            "53/53 [==============================] - 12s 229ms/step - loss: 0.1210 - accuracy: 0.9484\n",
            "Epoch 20/100\n",
            "53/53 [==============================] - 12s 226ms/step - loss: 0.1289 - accuracy: 0.9486\n",
            "Epoch 21/100\n",
            "53/53 [==============================] - 12s 227ms/step - loss: 0.1219 - accuracy: 0.9539\n",
            "Epoch 22/100\n",
            "53/53 [==============================] - 12s 227ms/step - loss: 0.1175 - accuracy: 0.9502\n",
            "Epoch 23/100\n",
            "53/53 [==============================] - 12s 223ms/step - loss: 0.1039 - accuracy: 0.9536\n",
            "Epoch 24/100\n",
            "53/53 [==============================] - 12s 223ms/step - loss: 0.1124 - accuracy: 0.9493\n",
            "Epoch 25/100\n",
            "53/53 [==============================] - 12s 229ms/step - loss: 0.1145 - accuracy: 0.9542\n",
            "Epoch 26/100\n",
            "53/53 [==============================] - 12s 224ms/step - loss: 0.1077 - accuracy: 0.9538\n",
            "Epoch 27/100\n",
            "53/53 [==============================] - 12s 225ms/step - loss: 0.0932 - accuracy: 0.9578\n",
            "Epoch 28/100\n",
            "53/53 [==============================] - 12s 223ms/step - loss: 0.1352 - accuracy: 0.9434\n",
            "Epoch 29/100\n",
            "53/53 [==============================] - 12s 221ms/step - loss: 0.1141 - accuracy: 0.9434\n",
            "Epoch 30/100\n",
            "53/53 [==============================] - 12s 222ms/step - loss: 0.1173 - accuracy: 0.9491\n",
            "Epoch 31/100\n",
            "53/53 [==============================] - 12s 223ms/step - loss: 0.1024 - accuracy: 0.9548\n",
            "Epoch 32/100\n",
            "53/53 [==============================] - 12s 224ms/step - loss: 0.1036 - accuracy: 0.9482\n",
            "Epoch 33/100\n",
            "53/53 [==============================] - 12s 222ms/step - loss: 0.1120 - accuracy: 0.9488\n",
            "Epoch 34/100\n",
            "53/53 [==============================] - 12s 223ms/step - loss: 0.1265 - accuracy: 0.9465\n",
            "Epoch 35/100\n",
            "53/53 [==============================] - 12s 222ms/step - loss: 0.1032 - accuracy: 0.9477\n",
            "Epoch 36/100\n",
            "53/53 [==============================] - 12s 224ms/step - loss: 0.1054 - accuracy: 0.9465\n",
            "Epoch 37/100\n",
            "53/53 [==============================] - 12s 229ms/step - loss: 0.0993 - accuracy: 0.9540\n",
            "Epoch 38/100\n",
            "53/53 [==============================] - 12s 224ms/step - loss: 0.1098 - accuracy: 0.9485\n",
            "Epoch 39/100\n",
            "53/53 [==============================] - 12s 224ms/step - loss: 0.1134 - accuracy: 0.9474\n",
            "Epoch 40/100\n",
            "53/53 [==============================] - 12s 234ms/step - loss: 0.1222 - accuracy: 0.9378\n",
            "Epoch 41/100\n",
            "53/53 [==============================] - 12s 225ms/step - loss: 0.1148 - accuracy: 0.9473\n",
            "Epoch 42/100\n",
            "53/53 [==============================] - 12s 226ms/step - loss: 0.1128 - accuracy: 0.9461\n",
            "Epoch 43/100\n",
            "53/53 [==============================] - 12s 225ms/step - loss: 0.0985 - accuracy: 0.9531\n",
            "Epoch 44/100\n",
            "53/53 [==============================] - 12s 223ms/step - loss: 0.1093 - accuracy: 0.9485\n",
            "Epoch 45/100\n",
            "53/53 [==============================] - 12s 225ms/step - loss: 0.1212 - accuracy: 0.9372\n",
            "Epoch 46/100\n",
            "53/53 [==============================] - 12s 224ms/step - loss: 0.0931 - accuracy: 0.9544\n",
            "Epoch 47/100\n",
            "53/53 [==============================] - 12s 223ms/step - loss: 0.0936 - accuracy: 0.9530\n",
            "Epoch 48/100\n",
            "53/53 [==============================] - 12s 222ms/step - loss: 0.1179 - accuracy: 0.9455\n",
            "Epoch 49/100\n",
            "53/53 [==============================] - 12s 222ms/step - loss: 0.1152 - accuracy: 0.9466\n",
            "Epoch 50/100\n",
            "53/53 [==============================] - 12s 223ms/step - loss: 0.0993 - accuracy: 0.9506\n",
            "Epoch 51/100\n",
            "53/53 [==============================] - 12s 226ms/step - loss: 0.1198 - accuracy: 0.9455\n",
            "Epoch 52/100\n",
            "53/53 [==============================] - 12s 224ms/step - loss: 0.1096 - accuracy: 0.9453\n",
            "Epoch 53/100\n",
            "53/53 [==============================] - 12s 224ms/step - loss: 0.1104 - accuracy: 0.9462\n",
            "Epoch 54/100\n",
            "53/53 [==============================] - 12s 223ms/step - loss: 0.0992 - accuracy: 0.9518\n",
            "Epoch 55/100\n",
            "53/53 [==============================] - 12s 225ms/step - loss: 0.1383 - accuracy: 0.9429\n",
            "Epoch 56/100\n",
            "53/53 [==============================] - 12s 223ms/step - loss: 1.6750 - accuracy: 0.6098\n",
            "Epoch 57/100\n",
            "53/53 [==============================] - 12s 226ms/step - loss: 4.4235 - accuracy: 0.1678\n",
            "Epoch 58/100\n",
            "53/53 [==============================] - 12s 227ms/step - loss: 3.2271 - accuracy: 0.2893\n",
            "Epoch 59/100\n",
            "53/53 [==============================] - 12s 228ms/step - loss: 2.3394 - accuracy: 0.4478\n",
            "Epoch 60/100\n",
            "53/53 [==============================] - 12s 227ms/step - loss: 1.7199 - accuracy: 0.5587\n",
            "Epoch 61/100\n",
            "53/53 [==============================] - 12s 226ms/step - loss: 1.2231 - accuracy: 0.6774\n",
            "Epoch 62/100\n",
            "53/53 [==============================] - 12s 229ms/step - loss: 1.1304 - accuracy: 0.6879\n",
            "Epoch 63/100\n",
            "53/53 [==============================] - 12s 227ms/step - loss: 0.8016 - accuracy: 0.7885\n",
            "Epoch 64/100\n",
            "53/53 [==============================] - 12s 222ms/step - loss: 0.5457 - accuracy: 0.8562\n",
            "Epoch 65/100\n",
            "53/53 [==============================] - 12s 225ms/step - loss: 0.3633 - accuracy: 0.9033\n",
            "Epoch 66/100\n",
            "53/53 [==============================] - 12s 228ms/step - loss: 0.2131 - accuracy: 0.9419\n",
            "Epoch 67/100\n",
            "53/53 [==============================] - 12s 228ms/step - loss: 0.1723 - accuracy: 0.9420\n",
            "Epoch 68/100\n",
            "53/53 [==============================] - 12s 227ms/step - loss: 0.1496 - accuracy: 0.9489\n",
            "Epoch 69/100\n",
            "53/53 [==============================] - 12s 224ms/step - loss: 0.1171 - accuracy: 0.9517\n",
            "Epoch 70/100\n",
            "53/53 [==============================] - 12s 226ms/step - loss: 0.1271 - accuracy: 0.9475\n",
            "Epoch 71/100\n",
            "53/53 [==============================] - 12s 224ms/step - loss: 0.1164 - accuracy: 0.9537\n",
            "Epoch 72/100\n",
            "53/53 [==============================] - 12s 228ms/step - loss: 0.1278 - accuracy: 0.9457\n",
            "Epoch 73/100\n",
            "53/53 [==============================] - 12s 226ms/step - loss: 0.1124 - accuracy: 0.9536\n",
            "Epoch 74/100\n",
            "53/53 [==============================] - 12s 227ms/step - loss: 0.1258 - accuracy: 0.9432\n",
            "Epoch 75/100\n",
            "53/53 [==============================] - 12s 227ms/step - loss: 0.1272 - accuracy: 0.9426\n",
            "Epoch 76/100\n",
            "53/53 [==============================] - 12s 232ms/step - loss: 0.1162 - accuracy: 0.9512\n",
            "Epoch 77/100\n",
            "53/53 [==============================] - 12s 231ms/step - loss: 0.1139 - accuracy: 0.9428\n",
            "Epoch 78/100\n",
            "53/53 [==============================] - 12s 227ms/step - loss: 0.0986 - accuracy: 0.9526\n",
            "Epoch 79/100\n",
            "53/53 [==============================] - 12s 229ms/step - loss: 0.1174 - accuracy: 0.9458\n",
            "Epoch 80/100\n",
            "53/53 [==============================] - 12s 228ms/step - loss: 0.1201 - accuracy: 0.9418\n",
            "Epoch 81/100\n",
            "53/53 [==============================] - 12s 229ms/step - loss: 0.1090 - accuracy: 0.9487\n",
            "Epoch 82/100\n",
            "53/53 [==============================] - 12s 231ms/step - loss: 0.1276 - accuracy: 0.9440\n",
            "Epoch 83/100\n",
            "53/53 [==============================] - 12s 228ms/step - loss: 0.0996 - accuracy: 0.9513\n",
            "Epoch 84/100\n",
            "53/53 [==============================] - 12s 227ms/step - loss: 0.1133 - accuracy: 0.9436\n",
            "Epoch 85/100\n",
            "53/53 [==============================] - 12s 225ms/step - loss: 0.1174 - accuracy: 0.9480\n",
            "Epoch 86/100\n",
            "53/53 [==============================] - 12s 226ms/step - loss: 0.1115 - accuracy: 0.9520\n",
            "Epoch 87/100\n",
            "53/53 [==============================] - 12s 230ms/step - loss: 0.1241 - accuracy: 0.9401\n",
            "Epoch 88/100\n",
            "53/53 [==============================] - 12s 224ms/step - loss: 0.1020 - accuracy: 0.9528\n",
            "Epoch 89/100\n",
            "53/53 [==============================] - 12s 224ms/step - loss: 0.1054 - accuracy: 0.9515\n",
            "Epoch 90/100\n",
            "53/53 [==============================] - 12s 225ms/step - loss: 0.1169 - accuracy: 0.9436\n",
            "Epoch 91/100\n",
            "53/53 [==============================] - 12s 224ms/step - loss: 0.1127 - accuracy: 0.9486\n",
            "Epoch 92/100\n",
            "53/53 [==============================] - 12s 231ms/step - loss: 0.1138 - accuracy: 0.9485\n",
            "Epoch 93/100\n",
            "53/53 [==============================] - 12s 228ms/step - loss: 0.0972 - accuracy: 0.9524\n",
            "Epoch 94/100\n",
            "53/53 [==============================] - 12s 229ms/step - loss: 0.1202 - accuracy: 0.9442\n",
            "Epoch 95/100\n",
            "53/53 [==============================] - 12s 231ms/step - loss: 0.1229 - accuracy: 0.9343\n",
            "Epoch 96/100\n",
            "53/53 [==============================] - 12s 229ms/step - loss: 0.1012 - accuracy: 0.9483\n",
            "Epoch 97/100\n",
            "53/53 [==============================] - 12s 232ms/step - loss: 0.1113 - accuracy: 0.9456\n",
            "Epoch 98/100\n",
            "53/53 [==============================] - 12s 231ms/step - loss: 0.0999 - accuracy: 0.9519\n",
            "Epoch 99/100\n",
            "53/53 [==============================] - 12s 231ms/step - loss: 0.1035 - accuracy: 0.9452\n",
            "Epoch 100/100\n",
            "53/53 [==============================] - 12s 234ms/step - loss: 0.1115 - accuracy: 0.9490\n"
          ],
          "name": "stdout"
        }
      ]
    },
    {
      "cell_type": "code",
      "metadata": {
        "id": "STFFP0qzUBqC",
        "colab": {
          "base_uri": "https://localhost:8080/",
          "height": 541
        },
        "outputId": "65cc34ed-474f-40ae-8ef5-60811d1eb16f"
      },
      "source": [
        "import matplotlib.pyplot as plt\n",
        "def plot_graphs(history, string):\n",
        "  plt.plot(history.history[string])\n",
        "  plt.xlabel(\"Epochs\")\n",
        "  plt.ylabel(string)\n",
        "  plt.show()\n",
        "\n",
        "plot_graphs(history,'accuracy')\n",
        "plot_graphs(history,'loss')"
      ],
      "execution_count": null,
      "outputs": [
        {
          "output_type": "display_data",
          "data": {
            "image/png": "[encoded data removed]",
            "text/plain": [
              "<Figure size 432x288 with 1 Axes>"
            ]
          },
          "metadata": {
            "tags": [],
            "needs_background": "light"
          }
        },
        {
          "output_type": "display_data",
          "data": {
            "image/png": "[encoded data removed]",
            "text/plain": [
              "<Figure size 432x288 with 1 Axes>"
            ]
          },
          "metadata": {
            "tags": [],
            "needs_background": "light"
          }
        }
      ]
    },
    {
      "cell_type": "code",
      "metadata": {
        "id": "7B4eaC-2UNt4",
        "colab": {
          "base_uri": "https://localhost:8080/"
        },
        "outputId": "b4d40db4-5ef0-41c6-85b0-08ebd630c9d7"
      },
      "source": [
        "seed_text = \"ye haseen waadiyan ye khula aasmaan \"\n",
        "seed_text = seed_text.lower()\n",
        "next_words =30\n",
        "\n",
        "for _ in range(next_words):\n",
        "\ttoken_list = tokenizer.texts_to_sequences([seed_text])[0]\n",
        "\ttoken_list = pad_sequences([token_list], maxlen=max_sequence_len-1, padding='pre')\n",
        "\tpredicted = model.predict_classes(token_list, verbose=0)\n",
        "\toutput_word = \"\"\n",
        "\tfor word, index in tokenizer.word_index.items():\n",
        "\t\tif index == predicted:\n",
        "\t\t\toutput_word = word\n",
        "\t\t\tbreak\n",
        "\tseed_text += \" \" + output_word\n",
        "print(seed_text)"
      ],
      "execution_count": null,
      "outputs": [
        {
          "output_type": "stream",
          "text": [
            "/usr/local/lib/python3.6/dist-packages/tensorflow/python/keras/engine/sequential.py:450: UserWarning: `model.predict_classes()` is deprecated and will be removed after 2021-01-01. Please use instead:* `np.argmax(model.predict(x), axis=-1)`,   if your model does multi-class classification   (e.g. if it uses a `softmax` last-layer activation).* `(model.predict(x) > 0.5).astype(\"int32\")`,   if your model does binary classification   (e.g. if it uses a `sigmoid` last-layer activation).\n",
            "  warnings.warn('`model.predict_classes()` is deprecated and '\n"
          ],
          "name": "stderr"
        },
        {
          "output_type": "stream",
          "text": [
            "agar tum na hoti  hai tu hi safar hai inhe toh rehna yakeen bhar tham jaa mujhe tere liye kyun kyun bhi nahi na jaane kyun na jaane kyun meelon ke hai faasle tum\n"
          ],
          "name": "stdout"
        }
      ]
    },
    {
      "cell_type": "code",
      "metadata": {
        "id": "zpAckLTOym4o"
      },
      "source": [
        ""
      ],
      "execution_count": null,
      "outputs": []
    }
  ]
}