{
  "nbformat": 4,
  "nbformat_minor": 0,
  "metadata": {
    "colab": {
      "name": "Quick_Draw_Dataset.ipynb",
      "provenance": [],
      "collapsed_sections": [],
      "authorship_tag": "ABX9TyOS5x0I19AGwz38dV0Znq2x",
      "include_colab_link": true
    },
    "kernelspec": {
      "display_name": "Python 3",
      "name": "python3"
    },
    "language_info": {
      "name": "python"
    }
  },
  "cells": [
    {
      "cell_type": "markdown",
      "metadata": {
        "id": "view-in-github",
        "colab_type": "text"
      },
      "source": [
        "<a href=\"https://colab.research.google.com/github/Kushagratandon12/Machine-Learning-Projects/blob/master/Quick_Draw_Dataset.ipynb\" target=\"_parent\"><img src=\"https://colab.research.google.com/assets/colab-badge.svg\" alt=\"Open In Colab\"/></a>"
      ]
    },
    {
      "cell_type": "code",
      "metadata": {
        "id": "PTJC6xPWOmK9"
      },
      "source": [
        "# # !gsutil -m cp 'gs://quickdraw_dataset/full/simplified/*.ndjson' . - Complete Dataset For Drawing Detection\n",
        "# !gsutil -m cp 'gs://quickdraw_dataset/full/numpy_bitmap/The Eiffel Tower.npy' .\n",
        "# !gsutil -m cp 'gs://quickdraw_dataset/full/simplified/The Eiffel Tower.ndjson' .\n",
        "# # !gsutil -m cp 'gs://quickdraw_dataset/full/simplified/animal migration.ndjson' ."
      ],
      "execution_count": 1,
      "outputs": []
    },
    {
      "cell_type": "code",
      "metadata": {
        "id": "23GyLTnJOwaX",
        "colab": {
          "base_uri": "https://localhost:8080/"
        },
        "outputId": "b6dfb9dd-3817-4ea9-cc0f-e77cf9e9db4c"
      },
      "source": [
        "import pandas as pd\n",
        "import numpy as np\n",
        "import tensorflow as tf\n",
        "from tensorflow import keras\n",
        "import cv2\n",
        "import random\n",
        "import json\n",
        "import gc\n",
        "import matplotlib.pyplot as plt\n",
        "import warnings\n",
        "!pip install cairocffi\n",
        "import cairocffi as cairo"
      ],
      "execution_count": 44,
      "outputs": [
        {
          "output_type": "stream",
          "text": [
            "Requirement already satisfied: cairocffi in /usr/local/lib/python3.7/dist-packages (1.2.0)\n",
            "Requirement already satisfied: cffi>=1.1.0 in /usr/local/lib/python3.7/dist-packages (from cairocffi) (1.14.5)\n",
            "Requirement already satisfied: pycparser in /usr/local/lib/python3.7/dist-packages (from cffi>=1.1.0->cairocffi) (2.20)\n"
          ],
          "name": "stdout"
        }
      ]
    },
    {
      "cell_type": "code",
      "metadata": {
        "colab": {
          "base_uri": "https://localhost:8080/",
          "height": 206
        },
        "id": "6LYKqx_HRK9Y",
        "outputId": "4dec09c6-a4ac-4b10-963f-517a94efa35b"
      },
      "source": [
        "data = map(json.loads, open('/content/The Eiffel Tower.ndjson'))\n",
        "df_data = pd.DataFrame(data)\n",
        "df_data = df_data [df_data['recognized']==True]\n",
        "df_data.head()"
      ],
      "execution_count": 35,
      "outputs": [
        {
          "output_type": "execute_result",
          "data": {
            "text/html": [
              "<div>\n",
              "<style scoped>\n",
              "    .dataframe tbody tr th:only-of-type {\n",
              "        vertical-align: middle;\n",
              "    }\n",
              "\n",
              "    .dataframe tbody tr th {\n",
              "        vertical-align: top;\n",
              "    }\n",
              "\n",
              "    .dataframe thead th {\n",
              "        text-align: right;\n",
              "    }\n",
              "</style>\n",
              "<table border=\"1\" class=\"dataframe\">\n",
              "  <thead>\n",
              "    <tr style=\"text-align: right;\">\n",
              "      <th></th>\n",
              "      <th>word</th>\n",
              "      <th>countrycode</th>\n",
              "      <th>timestamp</th>\n",
              "      <th>recognized</th>\n",
              "      <th>key_id</th>\n",
              "      <th>drawing</th>\n",
              "    </tr>\n",
              "  </thead>\n",
              "  <tbody>\n",
              "    <tr>\n",
              "      <th>0</th>\n",
              "      <td>The Eiffel Tower</td>\n",
              "      <td>GB</td>\n",
              "      <td>2017-03-11 14:47:44.05242 UTC</td>\n",
              "      <td>True</td>\n",
              "      <td>5027286841556992</td>\n",
              "      <td>[[[0, 22, 37, 64, 255], [218, 220, 227, 228, 2...</td>\n",
              "    </tr>\n",
              "    <tr>\n",
              "      <th>1</th>\n",
              "      <td>The Eiffel Tower</td>\n",
              "      <td>FR</td>\n",
              "      <td>2017-03-12 22:51:18.52595 UTC</td>\n",
              "      <td>True</td>\n",
              "      <td>5716269791707136</td>\n",
              "      <td>[[[47, 47, 36, 26, 0, 10, 23, 46, 46, 63, 68, ...</td>\n",
              "    </tr>\n",
              "    <tr>\n",
              "      <th>2</th>\n",
              "      <td>The Eiffel Tower</td>\n",
              "      <td>GB</td>\n",
              "      <td>2017-03-29 01:12:00.36798 UTC</td>\n",
              "      <td>True</td>\n",
              "      <td>5942899998982144</td>\n",
              "      <td>[[[184, 115, 67, 57, 36, 18], [251, 103, 12, 1...</td>\n",
              "    </tr>\n",
              "    <tr>\n",
              "      <th>3</th>\n",
              "      <td>The Eiffel Tower</td>\n",
              "      <td>US</td>\n",
              "      <td>2017-03-29 16:48:54.9129 UTC</td>\n",
              "      <td>True</td>\n",
              "      <td>6226163091374080</td>\n",
              "      <td>[[[0, 187, 177, 132, 105, 79, 38, 19, 11], [24...</td>\n",
              "    </tr>\n",
              "    <tr>\n",
              "      <th>4</th>\n",
              "      <td>The Eiffel Tower</td>\n",
              "      <td>GB</td>\n",
              "      <td>2017-03-04 15:50:45.19801 UTC</td>\n",
              "      <td>True</td>\n",
              "      <td>4889008825958400</td>\n",
              "      <td>[[[0, 21, 43, 83, 97, 158, 169, 172], [162, 16...</td>\n",
              "    </tr>\n",
              "  </tbody>\n",
              "</table>\n",
              "</div>"
            ],
            "text/plain": [
              "               word  ...                                            drawing\n",
              "0  The Eiffel Tower  ...  [[[0, 22, 37, 64, 255], [218, 220, 227, 228, 2...\n",
              "1  The Eiffel Tower  ...  [[[47, 47, 36, 26, 0, 10, 23, 46, 46, 63, 68, ...\n",
              "2  The Eiffel Tower  ...  [[[184, 115, 67, 57, 36, 18], [251, 103, 12, 1...\n",
              "3  The Eiffel Tower  ...  [[[0, 187, 177, 132, 105, 79, 38, 19, 11], [24...\n",
              "4  The Eiffel Tower  ...  [[[0, 21, 43, 83, 97, 158, 169, 172], [162, 16...\n",
              "\n",
              "[5 rows x 6 columns]"
            ]
          },
          "metadata": {
            "tags": []
          },
          "execution_count": 35
        }
      ]
    },
    {
      "cell_type": "code",
      "metadata": {
        "colab": {
          "base_uri": "https://localhost:8080/"
        },
        "id": "y8spoWyaX7Zc",
        "outputId": "db269b1a-1920-4c53-fe65-401dbf307076"
      },
      "source": [
        "df_data.size"
      ],
      "execution_count": 36,
      "outputs": [
        {
          "output_type": "execute_result",
          "data": {
            "text/plain": [
              "782598"
            ]
          },
          "metadata": {
            "tags": []
          },
          "execution_count": 36
        }
      ]
    },
    {
      "cell_type": "code",
      "metadata": {
        "colab": {
          "base_uri": "https://localhost:8080/",
          "height": 281
        },
        "id": "HStsZRkMoXiJ",
        "outputId": "b8b8a277-b1ff-4139-e423-1dd1d5e60a23"
      },
      "source": [
        "vector_drawings = df_data['drawing']\n",
        "vector_label = df_data['word'].unique()\n",
        "img_inspect = vector_drawings[random.randint(1,len(vector_drawings))]\n",
        "# plt.grid(True)\n",
        "for x , y in img_inspect:\n",
        "  plt.plot(x, y, marker='.')\n",
        "  plt.title(vector_label)"
      ],
      "execution_count": 98,
      "outputs": [
        {
          "output_type": "display_data",
          "data": {
            "image/png": "[encoded data removed]",
            "text/plain": [
              "<Figure size 432x288 with 1 Axes>"
            ]
          },
          "metadata": {
            "tags": [],
            "needs_background": "light"
          }
        }
      ]
    },
    {
      "cell_type": "code",
      "metadata": {
        "colab": {
          "base_uri": "https://localhost:8080/"
        },
        "id": "uLzE2j6HJCDU",
        "outputId": "4772ec71-20d5-4ba4-fc4a-c917887644ed"
      },
      "source": [
        "gc.collect()\n",
        "df_data['drawing'] = df_data['drawing'].apply(json.dumps)\n",
        "df_data['drawing'] = df_data['drawing'].apply(json.loads)\n",
        "drawing=df_data['drawing'].values\n",
        "drawing"
      ],
      "execution_count": 99,
      "outputs": [
        {
          "output_type": "execute_result",
          "data": {
            "text/plain": [
              "array([list([[[0, 22, 37, 64, 255], [218, 220, 227, 228, 211]], [[76, 95, 135, 141, 150, 159, 166, 180, 186, 201], [220, 138, 31, 0, 63, 79, 117, 150, 191, 224]], [[94, 104, 111, 119, 127, 141, 143, 142, 180, 191], [212, 167, 149, 80, 59, 41, 30, 134, 202, 232]], [[109, 127, 137, 147, 150, 162, 172, 185], [122, 120, 104, 97, 99, 124, 128, 128]], [[75, 130, 158], [162, 159, 150]]]),\n",
              "       list([[[47, 47, 36, 26, 0, 10, 23, 46, 46, 63, 68, 105, 107, 112, 134, 152, 170, 151, 125, 101, 82, 74, 70, 60], [18, 98, 167, 201, 255, 248, 245, 248, 235, 183, 181, 187, 202, 216, 244, 252, 239, 180, 140, 93, 42, 1, 1, 21]], [[76, 68, 78, 101, 102, 93], [71, 131, 135, 136, 126, 101]]]),\n",
              "       list([[[184, 115, 67, 57, 36, 18], [251, 103, 12, 109, 193, 247]], [[145, 154, 150, 48, 24], [180, 176, 175, 178, 173]], [[55, 50, 38, 0, 28, 31, 60, 66, 71], [128, 152, 179, 253, 254, 247, 114, 26, 0]], [[72, 76, 81, 83, 86, 99, 93, 86], [26, 35, 71, 250, 255, 254, 189, 5]], [[67, 74, 97, 172], [12, 16, 49, 194]]]),\n",
              "       ...,\n",
              "       list([[[0, 13, 32, 44, 59, 104, 120, 124, 135, 151, 172, 195, 205, 209], [255, 249, 229, 212, 184, 84, 29, 0, 33, 119, 183, 237, 252, 253]], [[126, 112, 115, 137, 139, 132], [0, 17, 20, 21, 12, 5]], [[123, 119, 100, 134, 142, 132], [74, 97, 147, 158, 158, 84]], [[177, 169, 156, 130, 92, 89, 70, 22], [247, 212, 182, 175, 172, 173, 210, 246]]]),\n",
              "       list([[[104, 96, 77, 50, 0], [1, 66, 119, 169, 244]], [[109, 106, 107, 130, 151, 169], [0, 12, 41, 148, 216, 247]], [[1, 18, 44, 71], [247, 234, 227, 254]], [[74, 89, 106, 113, 130], [255, 240, 234, 237, 255]]]),\n",
              "       list([[[48, 39, 32, 19, 11, 0], [131, 144, 161, 199, 234, 255]], [[53, 80, 107], [135, 186, 253]], [[48, 48, 56, 51, 51, 44, 58, 49], [126, 92, 46, 22, 0, 13, 8, 3]], [[52, 25, 50, 87, 89, 62, 56], [43, 126, 119, 120, 117, 69, 43]]])],\n",
              "      dtype=object)"
            ]
          },
          "metadata": {
            "tags": []
          },
          "execution_count": 99
        }
      ]
    },
    {
      "cell_type": "code",
      "metadata": {
        "id": "6BZW3VPHQqv6",
        "colab": {
          "base_uri": "https://localhost:8080/"
        },
        "outputId": "bbacc987-2d93-48e8-d731-d86b3f0d70d0"
      },
      "source": [
        "def vector_to_raster(vector_images, side=28, line_diameter=16, padding=16, bg_color=(0,0,0), fg_color=(1,1,1)):\n",
        "    \"\"\"\n",
        "    padding and line_diameter are relative to the original 256x256 image.\n",
        "    \"\"\"\n",
        "    \n",
        "    original_side = 256.\n",
        "    \n",
        "    surface = cairo.ImageSurface(cairo.FORMAT_ARGB32, side, side)\n",
        "    ctx = cairo.Context(surface)\n",
        "    ctx.set_antialias(cairo.ANTIALIAS_BEST)\n",
        "    ctx.set_line_cap(cairo.LINE_CAP_ROUND)\n",
        "    ctx.set_line_join(cairo.LINE_JOIN_ROUND)\n",
        "    ctx.set_line_width(line_diameter)\n",
        "\n",
        "    # scale to match the new size\n",
        "    # add padding at the edges for the line_diameter\n",
        "    # and add additional padding to account for antialiasing\n",
        "    total_padding = padding * 2. + line_diameter\n",
        "    total_padding = padding * 2. + line_diameter\n",
        "    new_scale = float(side) / float(original_side + total_padding)\n",
        "    ctx.scale(new_scale, new_scale)\n",
        "    ctx.translate(total_padding / 2., total_padding / 2.)\n",
        "\n",
        "    raster_images = []\n",
        "    for vector_image in vector_images:\n",
        "        # clear background\n",
        "        ctx.set_source_rgb(*bg_color)\n",
        "        ctx.paint()\n",
        "        \n",
        "        bbox = np.hstack(vector_image).max(axis=1)\n",
        "        offset = ((original_side, original_side) - bbox) / 2.\n",
        "        offset = offset.reshape(-1,1)\n",
        "        centered = [stroke + offset for stroke in vector_image]\n",
        "\n",
        "        # draw strokes, this is the most cpu-intensive part\n",
        "        ctx.set_source_rgb(*fg_color)        \n",
        "        for xv, yv in centered:\n",
        "            ctx.move_to(xv[0], yv[0])\n",
        "            for x, y in zip(xv, yv):\n",
        "                ctx.line_to(x, y)\n",
        "            ctx.stroke()\n",
        "\n",
        "        data = surface.get_data()\n",
        "        raster_image = np.copy(np.asarray(data)[::4])\n",
        "        raster_images.append(raster_image)\n",
        "    \n",
        "    return raster_images\n",
        "\n",
        "images = vector_to_raster(drawing)\n",
        "gc.collect()"
      ],
      "execution_count": 100,
      "outputs": [
        {
          "output_type": "execute_result",
          "data": {
            "text/plain": [
              "0"
            ]
          },
          "metadata": {
            "tags": []
          },
          "execution_count": 100
        }
      ]
    },
    {
      "cell_type": "code",
      "metadata": {
        "colab": {
          "base_uri": "https://localhost:8080/"
        },
        "id": "M0Mwc4ZJSxdv",
        "outputId": "c1e80268-6e89-43c7-837e-f043d6adebfa"
      },
      "source": [
        "imgflat = images[random.randint(1,len(images))]\n",
        "img = np.reshape(imgflat,(28,28,1))\n",
        "print(img.shape)"
      ],
      "execution_count": 110,
      "outputs": [
        {
          "output_type": "stream",
          "text": [
            "(28, 28, 1)\n"
          ],
          "name": "stdout"
        }
      ]
    },
    {
      "cell_type": "code",
      "metadata": {
        "colab": {
          "base_uri": "https://localhost:8080/",
          "height": 291
        },
        "id": "lrhRXMatcHTh",
        "outputId": "03013330-e011-4708-fa98-a355174180cb"
      },
      "source": [
        "from google.colab.patches import cv2_imshow\n",
        "plt.figure(figsize=(10,10))\n",
        "img = cv2.resize(img,(256,256))\n",
        "\n",
        "kernel = np.ones((5,5),np.float32)/25\n",
        "dst = cv2.filter2D(img,-1,kernel)\n",
        "\n",
        "cv2_imshow(dst)"
      ],
      "execution_count": 118,
      "outputs": [
        {
          "output_type": "display_data",
          "data": {
            "image/png": "[encoded data removed]",
            "text/plain": [
              "<PIL.Image.Image image mode=L size=256x256 at 0x7FE3B15CFCD0>"
            ]
          },
          "metadata": {
            "tags": []
          }
        },
        {
          "output_type": "display_data",
          "data": {
            "text/plain": [
              "<Figure size 720x720 with 0 Axes>"
            ]
          },
          "metadata": {
            "tags": []
          }
        }
      ]
    },
    {
      "cell_type": "code",
      "metadata": {
        "colab": {
          "base_uri": "https://localhost:8080/",
          "height": 283
        },
        "id": "GzcSqSsyV5eP",
        "outputId": "c73eb922-61b9-4c1b-af05-85e401314a94"
      },
      "source": [
        "plt.imshow(images[random.randint(1,len(images))].reshape(28,28))"
      ],
      "execution_count": 108,
      "outputs": [
        {
          "output_type": "execute_result",
          "data": {
            "text/plain": [
              "<matplotlib.image.AxesImage at 0x7fe3b1d264d0>"
            ]
          },
          "metadata": {
            "tags": []
          },
          "execution_count": 108
        },
        {
          "output_type": "display_data",
          "data": {
            "image/png": "[encoded data removed]",
            "text/plain": [
              "<Figure size 432x288 with 1 Axes>"
            ]
          },
          "metadata": {
            "tags": [],
            "needs_background": "light"
          }
        }
      ]
    }
  ]
}