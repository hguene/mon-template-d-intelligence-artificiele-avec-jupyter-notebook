{
  "nbformat": 4,
  "nbformat_minor": 0,
  "metadata": {
    "colab": {
      "name": "Quantium_Data_Analysis .ipynb",
      "provenance": [],
      "collapsed_sections": [],
      "include_colab_link": true
    },
    "kernelspec": {
      "name": "python3",
      "display_name": "Python 3"
    }
  },
  "cells": [
    {
      "cell_type": "markdown",
      "metadata": {
        "id": "view-in-github",
        "colab_type": "text"
      },
      "source": [
        "<a href=\"https://colab.research.google.com/github/Kushagratandon12/Introduction_to_tensorflow/blob/master/Quantium_Data_Analysis_2.ipynb\" target=\"_parent\"><img src=\"https://colab.research.google.com/assets/colab-badge.svg\" alt=\"Open In Colab\"/></a>"
      ]
    },
    {
      "cell_type": "code",
      "metadata": {
        "id": "gs2htGlvkzlI",
        "colab_type": "code",
        "colab": {}
      },
      "source": [
        "import numpy as np\n",
        "import pandas as pd\n"
      ],
      "execution_count": null,
      "outputs": []
    },
    {
      "cell_type": "code",
      "metadata": {
        "id": "sM-5Y_gPwb7B",
        "colab_type": "code",
        "colab": {
          "base_uri": "https://localhost:8080/",
          "height": 128
        },
        "outputId": "0e803667-f9fe-4336-ba22-1a632aa066f6"
      },
      "source": [
        "from google.colab import drive\n",
        "drive.mount('/content/drive')"
      ],
      "execution_count": null,
      "outputs": [
        {
          "output_type": "stream",
          "text": [
            "Go to this URL in a browser: https://accounts.google.com/o/oauth2/auth?client_id=947318989803-6bn6qk8qdgf4n4g3pfee6491hc0brc4i.apps.googleusercontent.com&redirect_uri=urn%3aietf%3awg%3aoauth%3a2.0%3aoob&response_type=code&scope=email%20https%3a%2f%2fwww.googleapis.com%2fauth%2fdocs.test%20https%3a%2f%2fwww.googleapis.com%2fauth%2fdrive%20https%3a%2f%2fwww.googleapis.com%2fauth%2fdrive.photos.readonly%20https%3a%2f%2fwww.googleapis.com%2fauth%2fpeopleapi.readonly\n",
            "\n",
            "Enter your authorization code:\n",
            "··········\n",
            "Mounted at /content/drive\n"
          ],
          "name": "stdout"
        }
      ]
    },
    {
      "cell_type": "code",
      "metadata": {
        "id": "xJRTEJm2lCo5",
        "colab_type": "code",
        "colab": {
          "base_uri": "https://localhost:8080/",
          "height": 437
        },
        "outputId": "6cf4abdc-1721-41a5-a57d-2e1d0a12d2aa"
      },
      "source": [
        "#Loading the data in the csv format and then reading and validating the data for data interpretation\n",
        "df = pd.read_csv('/content/drive/My Drive/Colab Notebooks/QVI_purchase_behaviour.csv',index_col = 0)\n",
        "df = pd.DataFrame(df)\n",
        "df"
      ],
      "execution_count": null,
      "outputs": [
        {
          "output_type": "execute_result",
          "data": {
            "text/html": [
              "<div>\n",
              "<style scoped>\n",
              "    .dataframe tbody tr th:only-of-type {\n",
              "        vertical-align: middle;\n",
              "    }\n",
              "\n",
              "    .dataframe tbody tr th {\n",
              "        vertical-align: top;\n",
              "    }\n",
              "\n",
              "    .dataframe thead th {\n",
              "        text-align: right;\n",
              "    }\n",
              "</style>\n",
              "<table border=\"1\" class=\"dataframe\">\n",
              "  <thead>\n",
              "    <tr style=\"text-align: right;\">\n",
              "      <th></th>\n",
              "      <th>LIFESTAGE</th>\n",
              "      <th>PREMIUM_CUSTOMER</th>\n",
              "    </tr>\n",
              "    <tr>\n",
              "      <th>LYLTY_CARD_NBR</th>\n",
              "      <th></th>\n",
              "      <th></th>\n",
              "    </tr>\n",
              "  </thead>\n",
              "  <tbody>\n",
              "    <tr>\n",
              "      <th>1000</th>\n",
              "      <td>YOUNG SINGLES/COUPLES</td>\n",
              "      <td>Premium</td>\n",
              "    </tr>\n",
              "    <tr>\n",
              "      <th>1002</th>\n",
              "      <td>YOUNG SINGLES/COUPLES</td>\n",
              "      <td>Mainstream</td>\n",
              "    </tr>\n",
              "    <tr>\n",
              "      <th>1003</th>\n",
              "      <td>YOUNG FAMILIES</td>\n",
              "      <td>Budget</td>\n",
              "    </tr>\n",
              "    <tr>\n",
              "      <th>1004</th>\n",
              "      <td>OLDER SINGLES/COUPLES</td>\n",
              "      <td>Mainstream</td>\n",
              "    </tr>\n",
              "    <tr>\n",
              "      <th>1005</th>\n",
              "      <td>MIDAGE SINGLES/COUPLES</td>\n",
              "      <td>Mainstream</td>\n",
              "    </tr>\n",
              "    <tr>\n",
              "      <th>...</th>\n",
              "      <td>...</td>\n",
              "      <td>...</td>\n",
              "    </tr>\n",
              "    <tr>\n",
              "      <th>2370651</th>\n",
              "      <td>MIDAGE SINGLES/COUPLES</td>\n",
              "      <td>Mainstream</td>\n",
              "    </tr>\n",
              "    <tr>\n",
              "      <th>2370701</th>\n",
              "      <td>YOUNG FAMILIES</td>\n",
              "      <td>Mainstream</td>\n",
              "    </tr>\n",
              "    <tr>\n",
              "      <th>2370751</th>\n",
              "      <td>YOUNG FAMILIES</td>\n",
              "      <td>Premium</td>\n",
              "    </tr>\n",
              "    <tr>\n",
              "      <th>2370961</th>\n",
              "      <td>OLDER FAMILIES</td>\n",
              "      <td>Budget</td>\n",
              "    </tr>\n",
              "    <tr>\n",
              "      <th>2373711</th>\n",
              "      <td>YOUNG SINGLES/COUPLES</td>\n",
              "      <td>Mainstream</td>\n",
              "    </tr>\n",
              "  </tbody>\n",
              "</table>\n",
              "<p>72637 rows × 2 columns</p>\n",
              "</div>"
            ],
            "text/plain": [
              "                             LIFESTAGE PREMIUM_CUSTOMER\n",
              "LYLTY_CARD_NBR                                         \n",
              "1000             YOUNG SINGLES/COUPLES          Premium\n",
              "1002             YOUNG SINGLES/COUPLES       Mainstream\n",
              "1003                    YOUNG FAMILIES           Budget\n",
              "1004             OLDER SINGLES/COUPLES       Mainstream\n",
              "1005            MIDAGE SINGLES/COUPLES       Mainstream\n",
              "...                                ...              ...\n",
              "2370651         MIDAGE SINGLES/COUPLES       Mainstream\n",
              "2370701                 YOUNG FAMILIES       Mainstream\n",
              "2370751                 YOUNG FAMILIES          Premium\n",
              "2370961                 OLDER FAMILIES           Budget\n",
              "2373711          YOUNG SINGLES/COUPLES       Mainstream\n",
              "\n",
              "[72637 rows x 2 columns]"
            ]
          },
          "metadata": {
            "tags": []
          },
          "execution_count": 32
        }
      ]
    },
    {
      "cell_type": "code",
      "metadata": {
        "id": "i-pSZwIVmV29",
        "colab_type": "code",
        "colab": {
          "base_uri": "https://localhost:8080/",
          "height": 54
        },
        "outputId": "ec6cc934-f619-47da-c038-4c2cf32ed490"
      },
      "source": [
        "#size of the data_set present\n",
        "print(df.size) #bytes of data\n",
        "print(df.shape) #row and col in the data defined "
      ],
      "execution_count": null,
      "outputs": [
        {
          "output_type": "stream",
          "text": [
            "145274\n",
            "(72637, 2)\n"
          ],
          "name": "stdout"
        }
      ]
    },
    {
      "cell_type": "code",
      "metadata": {
        "id": "5BrfyL_gn1AQ",
        "colab_type": "code",
        "colab": {
          "base_uri": "https://localhost:8080/",
          "height": 254
        },
        "outputId": "f91d8081-337d-40c1-fdf0-2774a71e2f61"
      },
      "source": [
        "df['LIFESTAGE']"
      ],
      "execution_count": null,
      "outputs": [
        {
          "output_type": "execute_result",
          "data": {
            "text/plain": [
              "LYLTY_CARD_NBR\n",
              "1000        YOUNG SINGLES/COUPLES\n",
              "1002        YOUNG SINGLES/COUPLES\n",
              "1003               YOUNG FAMILIES\n",
              "1004        OLDER SINGLES/COUPLES\n",
              "1005       MIDAGE SINGLES/COUPLES\n",
              "                    ...          \n",
              "2370651    MIDAGE SINGLES/COUPLES\n",
              "2370701            YOUNG FAMILIES\n",
              "2370751            YOUNG FAMILIES\n",
              "2370961            OLDER FAMILIES\n",
              "2373711     YOUNG SINGLES/COUPLES\n",
              "Name: LIFESTAGE, Length: 72637, dtype: object"
            ]
          },
          "metadata": {
            "tags": []
          },
          "execution_count": 5
        }
      ]
    },
    {
      "cell_type": "code",
      "metadata": {
        "id": "z0CLf0nebjq3",
        "colab_type": "code",
        "colab": {
          "base_uri": "https://localhost:8080/",
          "height": 363
        },
        "outputId": "4d09e68a-f87b-414f-ed10-bef8114b3386"
      },
      "source": [
        "new_df = df[(df['LIFESTAGE']=='YOUNG SINGLES/COUPLES') & (df['PREMIUM_CUSTOMER']=='Premium')]\n",
        "print(new_df)\n",
        "print('\\n\\nTotal number of data enteries for  YOUNG SINGLES/COUPLES which are Premium customers')\n",
        "print(new_df.shape)"
      ],
      "execution_count": null,
      "outputs": [
        {
          "output_type": "stream",
          "text": [
            "                            LIFESTAGE PREMIUM_CUSTOMER\n",
            "LYLTY_CARD_NBR                                        \n",
            "1000            YOUNG SINGLES/COUPLES          Premium\n",
            "1024            YOUNG SINGLES/COUPLES          Premium\n",
            "1042            YOUNG SINGLES/COUPLES          Premium\n",
            "1068            YOUNG SINGLES/COUPLES          Premium\n",
            "1146            YOUNG SINGLES/COUPLES          Premium\n",
            "...                               ...              ...\n",
            "272236          YOUNG SINGLES/COUPLES          Premium\n",
            "272319          YOUNG SINGLES/COUPLES          Premium\n",
            "272358          YOUNG SINGLES/COUPLES          Premium\n",
            "272379          YOUNG SINGLES/COUPLES          Premium\n",
            "272380          YOUNG SINGLES/COUPLES          Premium\n",
            "\n",
            "[2574 rows x 2 columns]\n",
            "\n",
            "\n",
            "Total number of data enteries for  YOUNG SINGLES/COUPLES which are Premium customers\n",
            "(2574, 2)\n"
          ],
          "name": "stdout"
        }
      ]
    },
    {
      "cell_type": "code",
      "metadata": {
        "id": "Gp2Haa-ZcSIX",
        "colab_type": "code",
        "colab": {
          "base_uri": "https://localhost:8080/",
          "height": 228
        },
        "outputId": "c40b8098-569f-42c7-d6a4-245adcbeea3e"
      },
      "source": [
        "trans_df = pd.read_csv('/content/drive/My Drive/Colab Notebooks/QVI_transaction_data.csv',index_col = 0)\n",
        "trans_df = pd.DataFrame(trans_df)\n",
        "trans_df.head()"
      ],
      "execution_count": null,
      "outputs": [
        {
          "output_type": "execute_result",
          "data": {
            "text/html": [
              "<div>\n",
              "<style scoped>\n",
              "    .dataframe tbody tr th:only-of-type {\n",
              "        vertical-align: middle;\n",
              "    }\n",
              "\n",
              "    .dataframe tbody tr th {\n",
              "        vertical-align: top;\n",
              "    }\n",
              "\n",
              "    .dataframe thead th {\n",
              "        text-align: right;\n",
              "    }\n",
              "</style>\n",
              "<table border=\"1\" class=\"dataframe\">\n",
              "  <thead>\n",
              "    <tr style=\"text-align: right;\">\n",
              "      <th></th>\n",
              "      <th>STORE_NBR</th>\n",
              "      <th>LYLTY_CARD_NBR</th>\n",
              "      <th>TXN_ID</th>\n",
              "      <th>PROD_NBR</th>\n",
              "      <th>PROD_NAME</th>\n",
              "      <th>PROD_QTY</th>\n",
              "      <th>TOT_SALES</th>\n",
              "    </tr>\n",
              "    <tr>\n",
              "      <th>DATE</th>\n",
              "      <th></th>\n",
              "      <th></th>\n",
              "      <th></th>\n",
              "      <th></th>\n",
              "      <th></th>\n",
              "      <th></th>\n",
              "      <th></th>\n",
              "    </tr>\n",
              "  </thead>\n",
              "  <tbody>\n",
              "    <tr>\n",
              "      <th>43390</th>\n",
              "      <td>1</td>\n",
              "      <td>1000</td>\n",
              "      <td>1</td>\n",
              "      <td>5</td>\n",
              "      <td>Natural Chip        Compny SeaSalt175g</td>\n",
              "      <td>2</td>\n",
              "      <td>6.0</td>\n",
              "    </tr>\n",
              "    <tr>\n",
              "      <th>43599</th>\n",
              "      <td>1</td>\n",
              "      <td>1307</td>\n",
              "      <td>348</td>\n",
              "      <td>66</td>\n",
              "      <td>CCs Nacho Cheese    175g</td>\n",
              "      <td>3</td>\n",
              "      <td>6.3</td>\n",
              "    </tr>\n",
              "    <tr>\n",
              "      <th>43605</th>\n",
              "      <td>1</td>\n",
              "      <td>1343</td>\n",
              "      <td>383</td>\n",
              "      <td>61</td>\n",
              "      <td>Smiths Crinkle Cut  Chips Chicken 170g</td>\n",
              "      <td>2</td>\n",
              "      <td>2.9</td>\n",
              "    </tr>\n",
              "    <tr>\n",
              "      <th>43329</th>\n",
              "      <td>2</td>\n",
              "      <td>2373</td>\n",
              "      <td>974</td>\n",
              "      <td>69</td>\n",
              "      <td>Smiths Chip Thinly  S/Cream&amp;Onion 175g</td>\n",
              "      <td>5</td>\n",
              "      <td>15.0</td>\n",
              "    </tr>\n",
              "    <tr>\n",
              "      <th>43330</th>\n",
              "      <td>2</td>\n",
              "      <td>2426</td>\n",
              "      <td>1038</td>\n",
              "      <td>108</td>\n",
              "      <td>Kettle Tortilla ChpsHny&amp;Jlpno Chili 150g</td>\n",
              "      <td>3</td>\n",
              "      <td>13.8</td>\n",
              "    </tr>\n",
              "  </tbody>\n",
              "</table>\n",
              "</div>"
            ],
            "text/plain": [
              "       STORE_NBR  LYLTY_CARD_NBR  ...  PROD_QTY  TOT_SALES\n",
              "DATE                              ...                     \n",
              "43390          1            1000  ...         2        6.0\n",
              "43599          1            1307  ...         3        6.3\n",
              "43605          1            1343  ...         2        2.9\n",
              "43329          2            2373  ...         5       15.0\n",
              "43330          2            2426  ...         3       13.8\n",
              "\n",
              "[5 rows x 7 columns]"
            ]
          },
          "metadata": {
            "tags": []
          },
          "execution_count": 31
        }
      ]
    },
    {
      "cell_type": "markdown",
      "metadata": {
        "id": "fkvVJWkAjn9i",
        "colab_type": "text"
      },
      "source": [
        "MERGING THEE TWO DATASET THAT ARE PROVIDED FOR STUDY --- QUANTIUM DATASET\n",
        "\n",
        "ANALYZING THE DATASET BY JOINING THE BOTH DATASET "
      ]
    },
    {
      "cell_type": "code",
      "metadata": {
        "id": "n19_gT0hg_Ta",
        "colab_type": "code",
        "colab": {
          "base_uri": "https://localhost:8080/",
          "height": 407
        },
        "outputId": "1cec501d-cad6-4bc3-fb12-5c20ea241637"
      },
      "source": [
        "merged_data = pd.merge(trans_df,df,how='inner',left_on='LYLTY_CARD_NBR' , right_on='LYLTY_CARD_NBR')\n",
        "merged_data = pd.DataFrame(merged_data)\n",
        "merged_data"
      ],
      "execution_count": null,
      "outputs": [
        {
          "output_type": "execute_result",
          "data": {
            "text/html": [
              "<div>\n",
              "<style scoped>\n",
              "    .dataframe tbody tr th:only-of-type {\n",
              "        vertical-align: middle;\n",
              "    }\n",
              "\n",
              "    .dataframe tbody tr th {\n",
              "        vertical-align: top;\n",
              "    }\n",
              "\n",
              "    .dataframe thead th {\n",
              "        text-align: right;\n",
              "    }\n",
              "</style>\n",
              "<table border=\"1\" class=\"dataframe\">\n",
              "  <thead>\n",
              "    <tr style=\"text-align: right;\">\n",
              "      <th></th>\n",
              "      <th>STORE_NBR</th>\n",
              "      <th>LYLTY_CARD_NBR</th>\n",
              "      <th>TXN_ID</th>\n",
              "      <th>PROD_NBR</th>\n",
              "      <th>PROD_NAME</th>\n",
              "      <th>PROD_QTY</th>\n",
              "      <th>TOT_SALES</th>\n",
              "      <th>LIFESTAGE</th>\n",
              "      <th>PREMIUM_CUSTOMER</th>\n",
              "    </tr>\n",
              "  </thead>\n",
              "  <tbody>\n",
              "    <tr>\n",
              "      <th>0</th>\n",
              "      <td>1</td>\n",
              "      <td>1000</td>\n",
              "      <td>1</td>\n",
              "      <td>5</td>\n",
              "      <td>Natural Chip        Compny SeaSalt175g</td>\n",
              "      <td>2</td>\n",
              "      <td>6.0</td>\n",
              "      <td>YOUNG SINGLES/COUPLES</td>\n",
              "      <td>Premium</td>\n",
              "    </tr>\n",
              "    <tr>\n",
              "      <th>1</th>\n",
              "      <td>1</td>\n",
              "      <td>1307</td>\n",
              "      <td>348</td>\n",
              "      <td>66</td>\n",
              "      <td>CCs Nacho Cheese    175g</td>\n",
              "      <td>3</td>\n",
              "      <td>6.3</td>\n",
              "      <td>MIDAGE SINGLES/COUPLES</td>\n",
              "      <td>Budget</td>\n",
              "    </tr>\n",
              "    <tr>\n",
              "      <th>2</th>\n",
              "      <td>1</td>\n",
              "      <td>1307</td>\n",
              "      <td>346</td>\n",
              "      <td>96</td>\n",
              "      <td>WW Original Stacked Chips 160g</td>\n",
              "      <td>2</td>\n",
              "      <td>3.8</td>\n",
              "      <td>MIDAGE SINGLES/COUPLES</td>\n",
              "      <td>Budget</td>\n",
              "    </tr>\n",
              "    <tr>\n",
              "      <th>3</th>\n",
              "      <td>1</td>\n",
              "      <td>1307</td>\n",
              "      <td>347</td>\n",
              "      <td>54</td>\n",
              "      <td>CCs Original 175g</td>\n",
              "      <td>1</td>\n",
              "      <td>2.1</td>\n",
              "      <td>MIDAGE SINGLES/COUPLES</td>\n",
              "      <td>Budget</td>\n",
              "    </tr>\n",
              "    <tr>\n",
              "      <th>4</th>\n",
              "      <td>1</td>\n",
              "      <td>1343</td>\n",
              "      <td>383</td>\n",
              "      <td>61</td>\n",
              "      <td>Smiths Crinkle Cut  Chips Chicken 170g</td>\n",
              "      <td>2</td>\n",
              "      <td>2.9</td>\n",
              "      <td>MIDAGE SINGLES/COUPLES</td>\n",
              "      <td>Budget</td>\n",
              "    </tr>\n",
              "    <tr>\n",
              "      <th>...</th>\n",
              "      <td>...</td>\n",
              "      <td>...</td>\n",
              "      <td>...</td>\n",
              "      <td>...</td>\n",
              "      <td>...</td>\n",
              "      <td>...</td>\n",
              "      <td>...</td>\n",
              "      <td>...</td>\n",
              "      <td>...</td>\n",
              "    </tr>\n",
              "    <tr>\n",
              "      <th>264831</th>\n",
              "      <td>272</td>\n",
              "      <td>272319</td>\n",
              "      <td>270088</td>\n",
              "      <td>89</td>\n",
              "      <td>Kettle Sweet Chilli And Sour Cream 175g</td>\n",
              "      <td>2</td>\n",
              "      <td>10.8</td>\n",
              "      <td>YOUNG SINGLES/COUPLES</td>\n",
              "      <td>Premium</td>\n",
              "    </tr>\n",
              "    <tr>\n",
              "      <th>264832</th>\n",
              "      <td>272</td>\n",
              "      <td>272358</td>\n",
              "      <td>270154</td>\n",
              "      <td>74</td>\n",
              "      <td>Tostitos Splash Of  Lime 175g</td>\n",
              "      <td>1</td>\n",
              "      <td>4.4</td>\n",
              "      <td>YOUNG SINGLES/COUPLES</td>\n",
              "      <td>Premium</td>\n",
              "    </tr>\n",
              "    <tr>\n",
              "      <th>264833</th>\n",
              "      <td>272</td>\n",
              "      <td>272379</td>\n",
              "      <td>270187</td>\n",
              "      <td>51</td>\n",
              "      <td>Doritos Mexicana    170g</td>\n",
              "      <td>2</td>\n",
              "      <td>8.8</td>\n",
              "      <td>YOUNG SINGLES/COUPLES</td>\n",
              "      <td>Premium</td>\n",
              "    </tr>\n",
              "    <tr>\n",
              "      <th>264834</th>\n",
              "      <td>272</td>\n",
              "      <td>272379</td>\n",
              "      <td>270188</td>\n",
              "      <td>42</td>\n",
              "      <td>Doritos Corn Chip Mexican Jalapeno 150g</td>\n",
              "      <td>2</td>\n",
              "      <td>7.8</td>\n",
              "      <td>YOUNG SINGLES/COUPLES</td>\n",
              "      <td>Premium</td>\n",
              "    </tr>\n",
              "    <tr>\n",
              "      <th>264835</th>\n",
              "      <td>272</td>\n",
              "      <td>272380</td>\n",
              "      <td>270189</td>\n",
              "      <td>74</td>\n",
              "      <td>Tostitos Splash Of  Lime 175g</td>\n",
              "      <td>2</td>\n",
              "      <td>8.8</td>\n",
              "      <td>YOUNG SINGLES/COUPLES</td>\n",
              "      <td>Premium</td>\n",
              "    </tr>\n",
              "  </tbody>\n",
              "</table>\n",
              "<p>264836 rows × 9 columns</p>\n",
              "</div>"
            ],
            "text/plain": [
              "        STORE_NBR  LYLTY_CARD_NBR  ...               LIFESTAGE  PREMIUM_CUSTOMER\n",
              "0               1            1000  ...   YOUNG SINGLES/COUPLES           Premium\n",
              "1               1            1307  ...  MIDAGE SINGLES/COUPLES            Budget\n",
              "2               1            1307  ...  MIDAGE SINGLES/COUPLES            Budget\n",
              "3               1            1307  ...  MIDAGE SINGLES/COUPLES            Budget\n",
              "4               1            1343  ...  MIDAGE SINGLES/COUPLES            Budget\n",
              "...           ...             ...  ...                     ...               ...\n",
              "264831        272          272319  ...   YOUNG SINGLES/COUPLES           Premium\n",
              "264832        272          272358  ...   YOUNG SINGLES/COUPLES           Premium\n",
              "264833        272          272379  ...   YOUNG SINGLES/COUPLES           Premium\n",
              "264834        272          272379  ...   YOUNG SINGLES/COUPLES           Premium\n",
              "264835        272          272380  ...   YOUNG SINGLES/COUPLES           Premium\n",
              "\n",
              "[264836 rows x 9 columns]"
            ]
          },
          "metadata": {
            "tags": []
          },
          "execution_count": 8
        }
      ]
    },
    {
      "cell_type": "code",
      "metadata": {
        "id": "FGQnWR8Zv40N",
        "colab_type": "code",
        "colab": {
          "base_uri": "https://localhost:8080/",
          "height": 288
        },
        "outputId": "ce4bcb01-07d1-4337-8014-196f33cfb6f3"
      },
      "source": [
        "merged_data.describe()"
      ],
      "execution_count": null,
      "outputs": [
        {
          "output_type": "execute_result",
          "data": {
            "text/html": [
              "<div>\n",
              "<style scoped>\n",
              "    .dataframe tbody tr th:only-of-type {\n",
              "        vertical-align: middle;\n",
              "    }\n",
              "\n",
              "    .dataframe tbody tr th {\n",
              "        vertical-align: top;\n",
              "    }\n",
              "\n",
              "    .dataframe thead th {\n",
              "        text-align: right;\n",
              "    }\n",
              "</style>\n",
              "<table border=\"1\" class=\"dataframe\">\n",
              "  <thead>\n",
              "    <tr style=\"text-align: right;\">\n",
              "      <th></th>\n",
              "      <th>STORE_NBR</th>\n",
              "      <th>LYLTY_CARD_NBR</th>\n",
              "      <th>TXN_ID</th>\n",
              "      <th>PROD_NBR</th>\n",
              "      <th>PROD_QTY</th>\n",
              "      <th>TOT_SALES</th>\n",
              "    </tr>\n",
              "  </thead>\n",
              "  <tbody>\n",
              "    <tr>\n",
              "      <th>count</th>\n",
              "      <td>264836.00000</td>\n",
              "      <td>2.648360e+05</td>\n",
              "      <td>2.648360e+05</td>\n",
              "      <td>264836.000000</td>\n",
              "      <td>264836.000000</td>\n",
              "      <td>264836.000000</td>\n",
              "    </tr>\n",
              "    <tr>\n",
              "      <th>mean</th>\n",
              "      <td>135.08011</td>\n",
              "      <td>1.355495e+05</td>\n",
              "      <td>1.351583e+05</td>\n",
              "      <td>56.583157</td>\n",
              "      <td>1.907309</td>\n",
              "      <td>7.304200</td>\n",
              "    </tr>\n",
              "    <tr>\n",
              "      <th>std</th>\n",
              "      <td>76.78418</td>\n",
              "      <td>8.057998e+04</td>\n",
              "      <td>7.813303e+04</td>\n",
              "      <td>32.826638</td>\n",
              "      <td>0.643654</td>\n",
              "      <td>3.083226</td>\n",
              "    </tr>\n",
              "    <tr>\n",
              "      <th>min</th>\n",
              "      <td>1.00000</td>\n",
              "      <td>1.000000e+03</td>\n",
              "      <td>1.000000e+00</td>\n",
              "      <td>1.000000</td>\n",
              "      <td>1.000000</td>\n",
              "      <td>1.500000</td>\n",
              "    </tr>\n",
              "    <tr>\n",
              "      <th>25%</th>\n",
              "      <td>70.00000</td>\n",
              "      <td>7.002100e+04</td>\n",
              "      <td>6.760150e+04</td>\n",
              "      <td>28.000000</td>\n",
              "      <td>2.000000</td>\n",
              "      <td>5.400000</td>\n",
              "    </tr>\n",
              "    <tr>\n",
              "      <th>50%</th>\n",
              "      <td>130.00000</td>\n",
              "      <td>1.303575e+05</td>\n",
              "      <td>1.351375e+05</td>\n",
              "      <td>56.000000</td>\n",
              "      <td>2.000000</td>\n",
              "      <td>7.400000</td>\n",
              "    </tr>\n",
              "    <tr>\n",
              "      <th>75%</th>\n",
              "      <td>203.00000</td>\n",
              "      <td>2.030942e+05</td>\n",
              "      <td>2.027012e+05</td>\n",
              "      <td>85.000000</td>\n",
              "      <td>2.000000</td>\n",
              "      <td>9.200000</td>\n",
              "    </tr>\n",
              "    <tr>\n",
              "      <th>max</th>\n",
              "      <td>272.00000</td>\n",
              "      <td>2.373711e+06</td>\n",
              "      <td>2.415841e+06</td>\n",
              "      <td>114.000000</td>\n",
              "      <td>200.000000</td>\n",
              "      <td>650.000000</td>\n",
              "    </tr>\n",
              "  </tbody>\n",
              "</table>\n",
              "</div>"
            ],
            "text/plain": [
              "          STORE_NBR  LYLTY_CARD_NBR  ...       PROD_QTY      TOT_SALES\n",
              "count  264836.00000    2.648360e+05  ...  264836.000000  264836.000000\n",
              "mean      135.08011    1.355495e+05  ...       1.907309       7.304200\n",
              "std        76.78418    8.057998e+04  ...       0.643654       3.083226\n",
              "min         1.00000    1.000000e+03  ...       1.000000       1.500000\n",
              "25%        70.00000    7.002100e+04  ...       2.000000       5.400000\n",
              "50%       130.00000    1.303575e+05  ...       2.000000       7.400000\n",
              "75%       203.00000    2.030942e+05  ...       2.000000       9.200000\n",
              "max       272.00000    2.373711e+06  ...     200.000000     650.000000\n",
              "\n",
              "[8 rows x 6 columns]"
            ]
          },
          "metadata": {
            "tags": []
          },
          "execution_count": 9
        }
      ]
    },
    {
      "cell_type": "code",
      "metadata": {
        "id": "ipY_DtASwySR",
        "colab_type": "code",
        "colab": {
          "base_uri": "https://localhost:8080/",
          "height": 298
        },
        "outputId": "439a6777-30b8-438b-9b54-a4f4df6c5995"
      },
      "source": [
        "#GRAPHICAL STUDY \n",
        "graph_sales  = pd.DataFrame(merged_data , columns=['TOT_SALES','PREMIUM_CUSTOMER'])\n",
        "import matplotlib.pyplot as plt\n",
        "\n",
        "graph_sales.plot(x='PREMIUM_CUSTOMER',y='TOT_SALES',kind='scatter')"
      ],
      "execution_count": null,
      "outputs": [
        {
          "output_type": "execute_result",
          "data": {
            "text/plain": [
              "<matplotlib.axes._subplots.AxesSubplot at 0x7fe3c27ad208>"
            ]
          },
          "metadata": {
            "tags": []
          },
          "execution_count": 10
        },
        {
          "output_type": "display_data",
          "data": {
            "image/png": "[encoded data removed]",
            "text/plain": [
              "<Figure size 432x288 with 1 Axes>"
            ]
          },
          "metadata": {
            "tags": [],
            "needs_background": "light"
          }
        }
      ]
    },
    {
      "cell_type": "code",
      "metadata": {
        "id": "5vyyO8J-gI6j",
        "colab_type": "code",
        "colab": {
          "base_uri": "https://localhost:8080/",
          "height": 254
        },
        "outputId": "d12c0f9c-0b89-462a-8fcb-373bf674bd64"
      },
      "source": [
        "product_names = merged_data['PROD_NAME']\n",
        "print((product_names)) #-- Labeled Products that are provided\n",
        "print('TOTAL NUMBERS OF PRODUCTS SELLED IN THE STORE {}'.format(product_names.size))"
      ],
      "execution_count": null,
      "outputs": [
        {
          "output_type": "stream",
          "text": [
            "0          Natural Chip        Compny SeaSalt175g\n",
            "1                        CCs Nacho Cheese    175g\n",
            "2                  WW Original Stacked Chips 160g\n",
            "3                               CCs Original 175g\n",
            "4          Smiths Crinkle Cut  Chips Chicken 170g\n",
            "                           ...                   \n",
            "264831    Kettle Sweet Chilli And Sour Cream 175g\n",
            "264832              Tostitos Splash Of  Lime 175g\n",
            "264833                   Doritos Mexicana    170g\n",
            "264834    Doritos Corn Chip Mexican Jalapeno 150g\n",
            "264835              Tostitos Splash Of  Lime 175g\n",
            "Name: PROD_NAME, Length: 264836, dtype: object\n",
            "TOTAL NUMBERS OF PRODUCTS SELLED IN THE STORE 264836\n"
          ],
          "name": "stdout"
        }
      ]
    },
    {
      "cell_type": "code",
      "metadata": {
        "id": "N7oNLKSDiNhx",
        "colab_type": "code",
        "colab": {
          "base_uri": "https://localhost:8080/",
          "height": 228
        },
        "outputId": "9a0b9230-5181-48fd-df0e-e709198bce76"
      },
      "source": [
        "#analysis of the dataset is being done \n",
        "young_singles = merged_data[(merged_data['LIFESTAGE']=='YOUNG SINGLES/COUPLES') & (merged_data['PREMIUM_CUSTOMER']=='Premium')]\n",
        "young_singles.head(6)"
      ],
      "execution_count": null,
      "outputs": [
        {
          "output_type": "execute_result",
          "data": {
            "text/html": [
              "<div>\n",
              "<style scoped>\n",
              "    .dataframe tbody tr th:only-of-type {\n",
              "        vertical-align: middle;\n",
              "    }\n",
              "\n",
              "    .dataframe tbody tr th {\n",
              "        vertical-align: top;\n",
              "    }\n",
              "\n",
              "    .dataframe thead th {\n",
              "        text-align: right;\n",
              "    }\n",
              "</style>\n",
              "<table border=\"1\" class=\"dataframe\">\n",
              "  <thead>\n",
              "    <tr style=\"text-align: right;\">\n",
              "      <th></th>\n",
              "      <th>STORE_NBR</th>\n",
              "      <th>LYLTY_CARD_NBR</th>\n",
              "      <th>TXN_ID</th>\n",
              "      <th>PROD_NBR</th>\n",
              "      <th>PROD_NAME</th>\n",
              "      <th>PROD_QTY</th>\n",
              "      <th>TOT_SALES</th>\n",
              "      <th>LIFESTAGE</th>\n",
              "      <th>PREMIUM_CUSTOMER</th>\n",
              "    </tr>\n",
              "  </thead>\n",
              "  <tbody>\n",
              "    <tr>\n",
              "      <th>0</th>\n",
              "      <td>1</td>\n",
              "      <td>1000</td>\n",
              "      <td>1</td>\n",
              "      <td>5</td>\n",
              "      <td>Natural Chip        Compny SeaSalt175g</td>\n",
              "      <td>2</td>\n",
              "      <td>6.0</td>\n",
              "      <td>YOUNG SINGLES/COUPLES</td>\n",
              "      <td>Premium</td>\n",
              "    </tr>\n",
              "    <tr>\n",
              "      <th>258556</th>\n",
              "      <td>77</td>\n",
              "      <td>77373</td>\n",
              "      <td>75311</td>\n",
              "      <td>40</td>\n",
              "      <td>Thins Chips Seasonedchicken 175g</td>\n",
              "      <td>2</td>\n",
              "      <td>6.6</td>\n",
              "      <td>YOUNG SINGLES/COUPLES</td>\n",
              "      <td>Premium</td>\n",
              "    </tr>\n",
              "    <tr>\n",
              "      <th>258557</th>\n",
              "      <td>77</td>\n",
              "      <td>77373</td>\n",
              "      <td>75310</td>\n",
              "      <td>107</td>\n",
              "      <td>Smiths Crinkle Cut  French OnionDip 150g</td>\n",
              "      <td>1</td>\n",
              "      <td>2.6</td>\n",
              "      <td>YOUNG SINGLES/COUPLES</td>\n",
              "      <td>Premium</td>\n",
              "    </tr>\n",
              "    <tr>\n",
              "      <th>258558</th>\n",
              "      <td>1</td>\n",
              "      <td>1289</td>\n",
              "      <td>329</td>\n",
              "      <td>96</td>\n",
              "      <td>WW Original Stacked Chips 160g</td>\n",
              "      <td>4</td>\n",
              "      <td>7.6</td>\n",
              "      <td>YOUNG SINGLES/COUPLES</td>\n",
              "      <td>Premium</td>\n",
              "    </tr>\n",
              "    <tr>\n",
              "      <th>258559</th>\n",
              "      <td>1</td>\n",
              "      <td>1460</td>\n",
              "      <td>539</td>\n",
              "      <td>19</td>\n",
              "      <td>Smiths Crinkle Cut  Snag&amp;Sauce 150g</td>\n",
              "      <td>4</td>\n",
              "      <td>10.4</td>\n",
              "      <td>YOUNG SINGLES/COUPLES</td>\n",
              "      <td>Premium</td>\n",
              "    </tr>\n",
              "    <tr>\n",
              "      <th>258560</th>\n",
              "      <td>1</td>\n",
              "      <td>1460</td>\n",
              "      <td>540</td>\n",
              "      <td>80</td>\n",
              "      <td>Natural ChipCo Sea  Salt &amp; Vinegr 175g</td>\n",
              "      <td>2</td>\n",
              "      <td>6.0</td>\n",
              "      <td>YOUNG SINGLES/COUPLES</td>\n",
              "      <td>Premium</td>\n",
              "    </tr>\n",
              "  </tbody>\n",
              "</table>\n",
              "</div>"
            ],
            "text/plain": [
              "        STORE_NBR  LYLTY_CARD_NBR  ...              LIFESTAGE  PREMIUM_CUSTOMER\n",
              "0               1            1000  ...  YOUNG SINGLES/COUPLES           Premium\n",
              "258556         77           77373  ...  YOUNG SINGLES/COUPLES           Premium\n",
              "258557         77           77373  ...  YOUNG SINGLES/COUPLES           Premium\n",
              "258558          1            1289  ...  YOUNG SINGLES/COUPLES           Premium\n",
              "258559          1            1460  ...  YOUNG SINGLES/COUPLES           Premium\n",
              "258560          1            1460  ...  YOUNG SINGLES/COUPLES           Premium\n",
              "\n",
              "[6 rows x 9 columns]"
            ]
          },
          "metadata": {
            "tags": []
          },
          "execution_count": 12
        }
      ]
    },
    {
      "cell_type": "code",
      "metadata": {
        "id": "BZZ8XinRjwDP",
        "colab_type": "code",
        "colab": {
          "base_uri": "https://localhost:8080/",
          "height": 407
        },
        "outputId": "115d6515-8d94-4939-e064-e8f0e5c20686"
      },
      "source": [
        "#studying sales \n",
        "Total_Sales  = merged_data[(merged_data['TOT_SALES']>=6.0) & (merged_data['PREMIUM_CUSTOMER']=='Budget')]\n",
        "Total_Sales"
      ],
      "execution_count": null,
      "outputs": [
        {
          "output_type": "execute_result",
          "data": {
            "text/html": [
              "<div>\n",
              "<style scoped>\n",
              "    .dataframe tbody tr th:only-of-type {\n",
              "        vertical-align: middle;\n",
              "    }\n",
              "\n",
              "    .dataframe tbody tr th {\n",
              "        vertical-align: top;\n",
              "    }\n",
              "\n",
              "    .dataframe thead th {\n",
              "        text-align: right;\n",
              "    }\n",
              "</style>\n",
              "<table border=\"1\" class=\"dataframe\">\n",
              "  <thead>\n",
              "    <tr style=\"text-align: right;\">\n",
              "      <th></th>\n",
              "      <th>STORE_NBR</th>\n",
              "      <th>LYLTY_CARD_NBR</th>\n",
              "      <th>TXN_ID</th>\n",
              "      <th>PROD_NBR</th>\n",
              "      <th>PROD_NAME</th>\n",
              "      <th>PROD_QTY</th>\n",
              "      <th>TOT_SALES</th>\n",
              "      <th>LIFESTAGE</th>\n",
              "      <th>PREMIUM_CUSTOMER</th>\n",
              "    </tr>\n",
              "  </thead>\n",
              "  <tbody>\n",
              "    <tr>\n",
              "      <th>1</th>\n",
              "      <td>1</td>\n",
              "      <td>1307</td>\n",
              "      <td>348</td>\n",
              "      <td>66</td>\n",
              "      <td>CCs Nacho Cheese    175g</td>\n",
              "      <td>3</td>\n",
              "      <td>6.3</td>\n",
              "      <td>MIDAGE SINGLES/COUPLES</td>\n",
              "      <td>Budget</td>\n",
              "    </tr>\n",
              "    <tr>\n",
              "      <th>5</th>\n",
              "      <td>2</td>\n",
              "      <td>2373</td>\n",
              "      <td>974</td>\n",
              "      <td>69</td>\n",
              "      <td>Smiths Chip Thinly  S/Cream&amp;Onion 175g</td>\n",
              "      <td>5</td>\n",
              "      <td>15.0</td>\n",
              "      <td>MIDAGE SINGLES/COUPLES</td>\n",
              "      <td>Budget</td>\n",
              "    </tr>\n",
              "    <tr>\n",
              "      <th>6</th>\n",
              "      <td>2</td>\n",
              "      <td>2426</td>\n",
              "      <td>1038</td>\n",
              "      <td>108</td>\n",
              "      <td>Kettle Tortilla ChpsHny&amp;Jlpno Chili 150g</td>\n",
              "      <td>3</td>\n",
              "      <td>13.8</td>\n",
              "      <td>MIDAGE SINGLES/COUPLES</td>\n",
              "      <td>Budget</td>\n",
              "    </tr>\n",
              "    <tr>\n",
              "      <th>8</th>\n",
              "      <td>4</td>\n",
              "      <td>4074</td>\n",
              "      <td>2978</td>\n",
              "      <td>70</td>\n",
              "      <td>Tyrrells Crisps     Lightly Salted 165g</td>\n",
              "      <td>2</td>\n",
              "      <td>8.4</td>\n",
              "      <td>MIDAGE SINGLES/COUPLES</td>\n",
              "      <td>Budget</td>\n",
              "    </tr>\n",
              "    <tr>\n",
              "      <th>9</th>\n",
              "      <td>4</td>\n",
              "      <td>4074</td>\n",
              "      <td>2979</td>\n",
              "      <td>60</td>\n",
              "      <td>Kettle Tortilla ChpsFeta&amp;Garlic 150g</td>\n",
              "      <td>2</td>\n",
              "      <td>9.2</td>\n",
              "      <td>MIDAGE SINGLES/COUPLES</td>\n",
              "      <td>Budget</td>\n",
              "    </tr>\n",
              "    <tr>\n",
              "      <th>...</th>\n",
              "      <td>...</td>\n",
              "      <td>...</td>\n",
              "      <td>...</td>\n",
              "      <td>...</td>\n",
              "      <td>...</td>\n",
              "      <td>...</td>\n",
              "      <td>...</td>\n",
              "      <td>...</td>\n",
              "      <td>...</td>\n",
              "    </tr>\n",
              "    <tr>\n",
              "      <th>237697</th>\n",
              "      <td>272</td>\n",
              "      <td>272310</td>\n",
              "      <td>270079</td>\n",
              "      <td>40</td>\n",
              "      <td>Thins Chips Seasonedchicken 175g</td>\n",
              "      <td>2</td>\n",
              "      <td>6.6</td>\n",
              "      <td>YOUNG SINGLES/COUPLES</td>\n",
              "      <td>Budget</td>\n",
              "    </tr>\n",
              "    <tr>\n",
              "      <th>237698</th>\n",
              "      <td>272</td>\n",
              "      <td>272329</td>\n",
              "      <td>270105</td>\n",
              "      <td>65</td>\n",
              "      <td>Old El Paso Salsa   Dip Chnky Tom Ht300g</td>\n",
              "      <td>2</td>\n",
              "      <td>10.2</td>\n",
              "      <td>YOUNG SINGLES/COUPLES</td>\n",
              "      <td>Budget</td>\n",
              "    </tr>\n",
              "    <tr>\n",
              "      <th>237699</th>\n",
              "      <td>272</td>\n",
              "      <td>272329</td>\n",
              "      <td>270106</td>\n",
              "      <td>17</td>\n",
              "      <td>Kettle Sensations   BBQ&amp;Maple 150g</td>\n",
              "      <td>2</td>\n",
              "      <td>9.2</td>\n",
              "      <td>YOUNG SINGLES/COUPLES</td>\n",
              "      <td>Budget</td>\n",
              "    </tr>\n",
              "    <tr>\n",
              "      <th>237700</th>\n",
              "      <td>272</td>\n",
              "      <td>272336</td>\n",
              "      <td>270113</td>\n",
              "      <td>42</td>\n",
              "      <td>Doritos Corn Chip Mexican Jalapeno 150g</td>\n",
              "      <td>2</td>\n",
              "      <td>7.8</td>\n",
              "      <td>YOUNG SINGLES/COUPLES</td>\n",
              "      <td>Budget</td>\n",
              "    </tr>\n",
              "    <tr>\n",
              "      <th>237701</th>\n",
              "      <td>272</td>\n",
              "      <td>272336</td>\n",
              "      <td>270114</td>\n",
              "      <td>63</td>\n",
              "      <td>Kettle 135g Swt Pot Sea Salt</td>\n",
              "      <td>2</td>\n",
              "      <td>8.4</td>\n",
              "      <td>YOUNG SINGLES/COUPLES</td>\n",
              "      <td>Budget</td>\n",
              "    </tr>\n",
              "  </tbody>\n",
              "</table>\n",
              "<p>65597 rows × 9 columns</p>\n",
              "</div>"
            ],
            "text/plain": [
              "        STORE_NBR  LYLTY_CARD_NBR  ...               LIFESTAGE  PREMIUM_CUSTOMER\n",
              "1               1            1307  ...  MIDAGE SINGLES/COUPLES            Budget\n",
              "5               2            2373  ...  MIDAGE SINGLES/COUPLES            Budget\n",
              "6               2            2426  ...  MIDAGE SINGLES/COUPLES            Budget\n",
              "8               4            4074  ...  MIDAGE SINGLES/COUPLES            Budget\n",
              "9               4            4074  ...  MIDAGE SINGLES/COUPLES            Budget\n",
              "...           ...             ...  ...                     ...               ...\n",
              "237697        272          272310  ...   YOUNG SINGLES/COUPLES            Budget\n",
              "237698        272          272329  ...   YOUNG SINGLES/COUPLES            Budget\n",
              "237699        272          272329  ...   YOUNG SINGLES/COUPLES            Budget\n",
              "237700        272          272336  ...   YOUNG SINGLES/COUPLES            Budget\n",
              "237701        272          272336  ...   YOUNG SINGLES/COUPLES            Budget\n",
              "\n",
              "[65597 rows x 9 columns]"
            ]
          },
          "metadata": {
            "tags": []
          },
          "execution_count": 13
        }
      ]
    },
    {
      "cell_type": "code",
      "metadata": {
        "id": "ZdEZFwPcoTbR",
        "colab_type": "code",
        "colab": {
          "base_uri": "https://localhost:8080/",
          "height": 391
        },
        "outputId": "55f41b4e-5005-443c-fdd7-f7172f87cf7f"
      },
      "source": [
        "#TOTAL NUMBER'S OF SALES MADE BY THE SYSTEM IS  ----- 1934414\n",
        "print(\"TOTAL NUMBER'S OF SALE'S MADE BY THE SYSTEM IS {}\".format(int(merged_data['TOT_SALES'].sum())))\n",
        "max_sales = merged_data['TOT_SALES'].max()\n",
        "print('MAXIMUM SALES MADE BY THE STORE/SYSTEM IS -- {} $'.format(max_sales))\n",
        "min_sales = merged_data['TOT_SALES'].min()\n",
        "print(\"MINIMUM SALES MADE BY THE STORE/SYSTEM IS -- {} $ \".format(min_sales))\n",
        "print(merged_data['TOT_SALES'].idxmax())\n",
        "merged_data.iloc[71450:71459]"
      ],
      "execution_count": null,
      "outputs": [
        {
          "output_type": "stream",
          "text": [
            "TOTAL NUMBER'S OF SALE'S MADE BY THE SYSTEM IS 1934414\n",
            "MAXIMUM SALES MADE BY THE STORE/SYSTEM IS -- 650.0 $\n",
            "MINIMUM SALES MADE BY THE STORE/SYSTEM IS -- 1.5 $ \n",
            "71456\n"
          ],
          "name": "stdout"
        },
        {
          "output_type": "execute_result",
          "data": {
            "text/html": [
              "<div>\n",
              "<style scoped>\n",
              "    .dataframe tbody tr th:only-of-type {\n",
              "        vertical-align: middle;\n",
              "    }\n",
              "\n",
              "    .dataframe tbody tr th {\n",
              "        vertical-align: top;\n",
              "    }\n",
              "\n",
              "    .dataframe thead th {\n",
              "        text-align: right;\n",
              "    }\n",
              "</style>\n",
              "<table border=\"1\" class=\"dataframe\">\n",
              "  <thead>\n",
              "    <tr style=\"text-align: right;\">\n",
              "      <th></th>\n",
              "      <th>STORE_NBR</th>\n",
              "      <th>LYLTY_CARD_NBR</th>\n",
              "      <th>TXN_ID</th>\n",
              "      <th>PROD_NBR</th>\n",
              "      <th>PROD_NAME</th>\n",
              "      <th>PROD_QTY</th>\n",
              "      <th>TOT_SALES</th>\n",
              "      <th>LIFESTAGE</th>\n",
              "      <th>PREMIUM_CUSTOMER</th>\n",
              "    </tr>\n",
              "  </thead>\n",
              "  <tbody>\n",
              "    <tr>\n",
              "      <th>71450</th>\n",
              "      <td>225</td>\n",
              "      <td>225119</td>\n",
              "      <td>225386</td>\n",
              "      <td>87</td>\n",
              "      <td>Infuzions BBQ Rib   Prawn Crackers 110g</td>\n",
              "      <td>2</td>\n",
              "      <td>7.6</td>\n",
              "      <td>OLDER FAMILIES</td>\n",
              "      <td>Premium</td>\n",
              "    </tr>\n",
              "    <tr>\n",
              "      <th>71451</th>\n",
              "      <td>225</td>\n",
              "      <td>225119</td>\n",
              "      <td>225388</td>\n",
              "      <td>98</td>\n",
              "      <td>NCC Sour Cream &amp;    Garden Chives 175g</td>\n",
              "      <td>2</td>\n",
              "      <td>6.0</td>\n",
              "      <td>OLDER FAMILIES</td>\n",
              "      <td>Premium</td>\n",
              "    </tr>\n",
              "    <tr>\n",
              "      <th>71452</th>\n",
              "      <td>225</td>\n",
              "      <td>225119</td>\n",
              "      <td>225389</td>\n",
              "      <td>62</td>\n",
              "      <td>Pringles Mystery    Flavour 134g</td>\n",
              "      <td>2</td>\n",
              "      <td>7.4</td>\n",
              "      <td>OLDER FAMILIES</td>\n",
              "      <td>Premium</td>\n",
              "    </tr>\n",
              "    <tr>\n",
              "      <th>71453</th>\n",
              "      <td>225</td>\n",
              "      <td>225119</td>\n",
              "      <td>225390</td>\n",
              "      <td>47</td>\n",
              "      <td>Doritos Corn Chips  Original 170g</td>\n",
              "      <td>2</td>\n",
              "      <td>8.8</td>\n",
              "      <td>OLDER FAMILIES</td>\n",
              "      <td>Premium</td>\n",
              "    </tr>\n",
              "    <tr>\n",
              "      <th>71454</th>\n",
              "      <td>225</td>\n",
              "      <td>225119</td>\n",
              "      <td>225391</td>\n",
              "      <td>46</td>\n",
              "      <td>Kettle Original 175g</td>\n",
              "      <td>2</td>\n",
              "      <td>10.8</td>\n",
              "      <td>OLDER FAMILIES</td>\n",
              "      <td>Premium</td>\n",
              "    </tr>\n",
              "    <tr>\n",
              "      <th>71455</th>\n",
              "      <td>225</td>\n",
              "      <td>225119</td>\n",
              "      <td>225392</td>\n",
              "      <td>67</td>\n",
              "      <td>RRD Chilli&amp;         Coconut 150g</td>\n",
              "      <td>2</td>\n",
              "      <td>5.4</td>\n",
              "      <td>OLDER FAMILIES</td>\n",
              "      <td>Premium</td>\n",
              "    </tr>\n",
              "    <tr>\n",
              "      <th>71456</th>\n",
              "      <td>226</td>\n",
              "      <td>226000</td>\n",
              "      <td>226201</td>\n",
              "      <td>4</td>\n",
              "      <td>Dorito Corn Chp     Supreme 380g</td>\n",
              "      <td>200</td>\n",
              "      <td>650.0</td>\n",
              "      <td>OLDER FAMILIES</td>\n",
              "      <td>Premium</td>\n",
              "    </tr>\n",
              "    <tr>\n",
              "      <th>71457</th>\n",
              "      <td>226</td>\n",
              "      <td>226000</td>\n",
              "      <td>226210</td>\n",
              "      <td>4</td>\n",
              "      <td>Dorito Corn Chp     Supreme 380g</td>\n",
              "      <td>200</td>\n",
              "      <td>650.0</td>\n",
              "      <td>OLDER FAMILIES</td>\n",
              "      <td>Premium</td>\n",
              "    </tr>\n",
              "    <tr>\n",
              "      <th>71458</th>\n",
              "      <td>226</td>\n",
              "      <td>226101</td>\n",
              "      <td>226747</td>\n",
              "      <td>77</td>\n",
              "      <td>Doritos Corn Chips  Nacho Cheese 170g</td>\n",
              "      <td>1</td>\n",
              "      <td>4.4</td>\n",
              "      <td>OLDER FAMILIES</td>\n",
              "      <td>Premium</td>\n",
              "    </tr>\n",
              "  </tbody>\n",
              "</table>\n",
              "</div>"
            ],
            "text/plain": [
              "       STORE_NBR  LYLTY_CARD_NBR  ...       LIFESTAGE  PREMIUM_CUSTOMER\n",
              "71450        225          225119  ...  OLDER FAMILIES           Premium\n",
              "71451        225          225119  ...  OLDER FAMILIES           Premium\n",
              "71452        225          225119  ...  OLDER FAMILIES           Premium\n",
              "71453        225          225119  ...  OLDER FAMILIES           Premium\n",
              "71454        225          225119  ...  OLDER FAMILIES           Premium\n",
              "71455        225          225119  ...  OLDER FAMILIES           Premium\n",
              "71456        226          226000  ...  OLDER FAMILIES           Premium\n",
              "71457        226          226000  ...  OLDER FAMILIES           Premium\n",
              "71458        226          226101  ...  OLDER FAMILIES           Premium\n",
              "\n",
              "[9 rows x 9 columns]"
            ]
          },
          "metadata": {
            "tags": []
          },
          "execution_count": 14
        }
      ]
    },
    {
      "cell_type": "code",
      "metadata": {
        "id": "rHaNhHKjrRHU",
        "colab_type": "code",
        "colab": {
          "base_uri": "https://localhost:8080/",
          "height": 198
        },
        "outputId": "0cab7744-a8e3-4a8c-fcc7-38d0cce8b108"
      },
      "source": [
        "lifestages = merged_data.sort_values('PROD_QTY',ascending=False).groupby('LIFESTAGE').head(3)\n",
        "lifestages.head()"
      ],
      "execution_count": null,
      "outputs": [
        {
          "output_type": "execute_result",
          "data": {
            "text/html": [
              "<div>\n",
              "<style scoped>\n",
              "    .dataframe tbody tr th:only-of-type {\n",
              "        vertical-align: middle;\n",
              "    }\n",
              "\n",
              "    .dataframe tbody tr th {\n",
              "        vertical-align: top;\n",
              "    }\n",
              "\n",
              "    .dataframe thead th {\n",
              "        text-align: right;\n",
              "    }\n",
              "</style>\n",
              "<table border=\"1\" class=\"dataframe\">\n",
              "  <thead>\n",
              "    <tr style=\"text-align: right;\">\n",
              "      <th></th>\n",
              "      <th>STORE_NBR</th>\n",
              "      <th>LYLTY_CARD_NBR</th>\n",
              "      <th>TXN_ID</th>\n",
              "      <th>PROD_NBR</th>\n",
              "      <th>PROD_NAME</th>\n",
              "      <th>PROD_QTY</th>\n",
              "      <th>TOT_SALES</th>\n",
              "      <th>LIFESTAGE</th>\n",
              "      <th>PREMIUM_CUSTOMER</th>\n",
              "    </tr>\n",
              "  </thead>\n",
              "  <tbody>\n",
              "    <tr>\n",
              "      <th>71456</th>\n",
              "      <td>226</td>\n",
              "      <td>226000</td>\n",
              "      <td>226201</td>\n",
              "      <td>4</td>\n",
              "      <td>Dorito Corn Chp     Supreme 380g</td>\n",
              "      <td>200</td>\n",
              "      <td>650.00</td>\n",
              "      <td>OLDER FAMILIES</td>\n",
              "      <td>Premium</td>\n",
              "    </tr>\n",
              "    <tr>\n",
              "      <th>71457</th>\n",
              "      <td>226</td>\n",
              "      <td>226000</td>\n",
              "      <td>226210</td>\n",
              "      <td>4</td>\n",
              "      <td>Dorito Corn Chp     Supreme 380g</td>\n",
              "      <td>200</td>\n",
              "      <td>650.00</td>\n",
              "      <td>OLDER FAMILIES</td>\n",
              "      <td>Premium</td>\n",
              "    </tr>\n",
              "    <tr>\n",
              "      <th>34105</th>\n",
              "      <td>97</td>\n",
              "      <td>97211</td>\n",
              "      <td>97600</td>\n",
              "      <td>11</td>\n",
              "      <td>RRD Pc Sea Salt     165g</td>\n",
              "      <td>5</td>\n",
              "      <td>15.00</td>\n",
              "      <td>OLDER FAMILIES</td>\n",
              "      <td>Budget</td>\n",
              "    </tr>\n",
              "    <tr>\n",
              "      <th>102451</th>\n",
              "      <td>235</td>\n",
              "      <td>235164</td>\n",
              "      <td>238117</td>\n",
              "      <td>4</td>\n",
              "      <td>Dorito Corn Chp     Supreme 380g</td>\n",
              "      <td>5</td>\n",
              "      <td>16.25</td>\n",
              "      <td>OLDER SINGLES/COUPLES</td>\n",
              "      <td>Mainstream</td>\n",
              "    </tr>\n",
              "    <tr>\n",
              "      <th>259068</th>\n",
              "      <td>183</td>\n",
              "      <td>183032</td>\n",
              "      <td>184969</td>\n",
              "      <td>21</td>\n",
              "      <td>WW Sour Cream &amp;OnionStacked Chips 160g</td>\n",
              "      <td>5</td>\n",
              "      <td>9.50</td>\n",
              "      <td>YOUNG SINGLES/COUPLES</td>\n",
              "      <td>Premium</td>\n",
              "    </tr>\n",
              "  </tbody>\n",
              "</table>\n",
              "</div>"
            ],
            "text/plain": [
              "        STORE_NBR  LYLTY_CARD_NBR  ...              LIFESTAGE  PREMIUM_CUSTOMER\n",
              "71456         226          226000  ...         OLDER FAMILIES           Premium\n",
              "71457         226          226000  ...         OLDER FAMILIES           Premium\n",
              "34105          97           97211  ...         OLDER FAMILIES            Budget\n",
              "102451        235          235164  ...  OLDER SINGLES/COUPLES        Mainstream\n",
              "259068        183          183032  ...  YOUNG SINGLES/COUPLES           Premium\n",
              "\n",
              "[5 rows x 9 columns]"
            ]
          },
          "metadata": {
            "tags": []
          },
          "execution_count": 15
        }
      ]
    },
    {
      "cell_type": "code",
      "metadata": {
        "id": "woObov9NrB1h",
        "colab_type": "code",
        "colab": {
          "base_uri": "https://localhost:8080/",
          "height": 35
        },
        "outputId": "8008fbf8-d613-4061-b850-bbea18debe02"
      },
      "source": [
        "merged_data = merged_data[merged_data['PROD_QTY']>2]\n",
        "merged_data.head()\n",
        "merged_data.shape\n",
        "#TOTAL NUMBER OF ENTERIES WHERE PROD_QTY IS MORE THAN 3"
      ],
      "execution_count": null,
      "outputs": [
        {
          "output_type": "execute_result",
          "data": {
            "text/plain": [
              "(1279, 9)"
            ]
          },
          "metadata": {
            "tags": []
          },
          "execution_count": 16
        }
      ]
    },
    {
      "cell_type": "code",
      "metadata": {
        "id": "2YvmWzmzsOiK",
        "colab_type": "code",
        "colab": {
          "base_uri": "https://localhost:8080/",
          "height": 290
        },
        "outputId": "fa8f4b36-c3ef-4fdb-9bb1-ab9e69f0d847"
      },
      "source": [
        "prod_nbr = Total_Sales['PROD_NBR']\n",
        "print(prod_nbr.duplicated(keep=False))\n",
        "print(\"\\n\\n\\tTOTAL NUMBER OF PRODUCTS REMOVING THE DUPLICATES ARE ---- {}\".format(prod_nbr.size))"
      ],
      "execution_count": null,
      "outputs": [
        {
          "output_type": "stream",
          "text": [
            "1         True\n",
            "5         True\n",
            "6         True\n",
            "8         True\n",
            "9         True\n",
            "          ... \n",
            "237697    True\n",
            "237698    True\n",
            "237699    True\n",
            "237700    True\n",
            "237701    True\n",
            "Name: PROD_NBR, Length: 65597, dtype: bool\n",
            "\n",
            "\n",
            "\tTOTAL NUMBER OF PRODUCTS REMOVING THE DUPLICATES ARE ---- 65597\n"
          ],
          "name": "stdout"
        }
      ]
    },
    {
      "cell_type": "code",
      "metadata": {
        "id": "KHF6y-vhs0pC",
        "colab_type": "code",
        "colab": {
          "base_uri": "https://localhost:8080/",
          "height": 407
        },
        "outputId": "c51aa1a9-652c-4412-f62e-4558b07ebe41"
      },
      "source": [
        "data_point = merged_data[(merged_data['PREMIUM_CUSTOMER']=='Budget') & (merged_data['TOT_SALES']>20)]\n",
        "data_point"
      ],
      "execution_count": null,
      "outputs": [
        {
          "output_type": "execute_result",
          "data": {
            "text/html": [
              "<div>\n",
              "<style scoped>\n",
              "    .dataframe tbody tr th:only-of-type {\n",
              "        vertical-align: middle;\n",
              "    }\n",
              "\n",
              "    .dataframe tbody tr th {\n",
              "        vertical-align: top;\n",
              "    }\n",
              "\n",
              "    .dataframe thead th {\n",
              "        text-align: right;\n",
              "    }\n",
              "</style>\n",
              "<table border=\"1\" class=\"dataframe\">\n",
              "  <thead>\n",
              "    <tr style=\"text-align: right;\">\n",
              "      <th></th>\n",
              "      <th>STORE_NBR</th>\n",
              "      <th>LYLTY_CARD_NBR</th>\n",
              "      <th>TXN_ID</th>\n",
              "      <th>PROD_NBR</th>\n",
              "      <th>PROD_NAME</th>\n",
              "      <th>PROD_QTY</th>\n",
              "      <th>TOT_SALES</th>\n",
              "      <th>LIFESTAGE</th>\n",
              "      <th>PREMIUM_CUSTOMER</th>\n",
              "    </tr>\n",
              "  </thead>\n",
              "  <tbody>\n",
              "    <tr>\n",
              "      <th>37</th>\n",
              "      <td>8</td>\n",
              "      <td>8294</td>\n",
              "      <td>8221</td>\n",
              "      <td>114</td>\n",
              "      <td>Kettle Sensations   Siracha Lime 150g</td>\n",
              "      <td>5</td>\n",
              "      <td>23.0</td>\n",
              "      <td>MIDAGE SINGLES/COUPLES</td>\n",
              "      <td>Budget</td>\n",
              "    </tr>\n",
              "    <tr>\n",
              "      <th>315</th>\n",
              "      <td>96</td>\n",
              "      <td>96203</td>\n",
              "      <td>96025</td>\n",
              "      <td>7</td>\n",
              "      <td>Smiths Crinkle      Original 330g</td>\n",
              "      <td>5</td>\n",
              "      <td>28.5</td>\n",
              "      <td>MIDAGE SINGLES/COUPLES</td>\n",
              "      <td>Budget</td>\n",
              "    </tr>\n",
              "    <tr>\n",
              "      <th>25141</th>\n",
              "      <td>19</td>\n",
              "      <td>19186</td>\n",
              "      <td>16424</td>\n",
              "      <td>15</td>\n",
              "      <td>Twisties Cheese     270g</td>\n",
              "      <td>5</td>\n",
              "      <td>23.0</td>\n",
              "      <td>NEW FAMILIES</td>\n",
              "      <td>Budget</td>\n",
              "    </tr>\n",
              "    <tr>\n",
              "      <th>25188</th>\n",
              "      <td>49</td>\n",
              "      <td>49360</td>\n",
              "      <td>45992</td>\n",
              "      <td>46</td>\n",
              "      <td>Kettle Original 175g</td>\n",
              "      <td>5</td>\n",
              "      <td>27.0</td>\n",
              "      <td>NEW FAMILIES</td>\n",
              "      <td>Budget</td>\n",
              "    </tr>\n",
              "    <tr>\n",
              "      <th>32423</th>\n",
              "      <td>27</td>\n",
              "      <td>27179</td>\n",
              "      <td>24216</td>\n",
              "      <td>20</td>\n",
              "      <td>Doritos Cheese      Supreme 330g</td>\n",
              "      <td>4</td>\n",
              "      <td>22.8</td>\n",
              "      <td>OLDER FAMILIES</td>\n",
              "      <td>Budget</td>\n",
              "    </tr>\n",
              "    <tr>\n",
              "      <th>...</th>\n",
              "      <td>...</td>\n",
              "      <td>...</td>\n",
              "      <td>...</td>\n",
              "      <td>...</td>\n",
              "      <td>...</td>\n",
              "      <td>...</td>\n",
              "      <td>...</td>\n",
              "      <td>...</td>\n",
              "      <td>...</td>\n",
              "    </tr>\n",
              "    <tr>\n",
              "      <th>188305</th>\n",
              "      <td>227</td>\n",
              "      <td>227174</td>\n",
              "      <td>229329</td>\n",
              "      <td>17</td>\n",
              "      <td>Kettle Sensations   BBQ&amp;Maple 150g</td>\n",
              "      <td>5</td>\n",
              "      <td>23.0</td>\n",
              "      <td>YOUNG FAMILIES</td>\n",
              "      <td>Budget</td>\n",
              "    </tr>\n",
              "    <tr>\n",
              "      <th>188556</th>\n",
              "      <td>240</td>\n",
              "      <td>240096</td>\n",
              "      <td>244141</td>\n",
              "      <td>59</td>\n",
              "      <td>Old El Paso Salsa   Dip Tomato Med 300g</td>\n",
              "      <td>4</td>\n",
              "      <td>20.4</td>\n",
              "      <td>YOUNG FAMILIES</td>\n",
              "      <td>Budget</td>\n",
              "    </tr>\n",
              "    <tr>\n",
              "      <th>188876</th>\n",
              "      <td>270</td>\n",
              "      <td>270127</td>\n",
              "      <td>267461</td>\n",
              "      <td>46</td>\n",
              "      <td>Kettle Original 175g</td>\n",
              "      <td>5</td>\n",
              "      <td>27.0</td>\n",
              "      <td>YOUNG FAMILIES</td>\n",
              "      <td>Budget</td>\n",
              "    </tr>\n",
              "    <tr>\n",
              "      <th>228636</th>\n",
              "      <td>36</td>\n",
              "      <td>36221</td>\n",
              "      <td>32861</td>\n",
              "      <td>88</td>\n",
              "      <td>Kettle Honey Soy    Chicken 175g</td>\n",
              "      <td>5</td>\n",
              "      <td>27.0</td>\n",
              "      <td>YOUNG SINGLES/COUPLES</td>\n",
              "      <td>Budget</td>\n",
              "    </tr>\n",
              "    <tr>\n",
              "      <th>228825</th>\n",
              "      <td>79</td>\n",
              "      <td>79169</td>\n",
              "      <td>77499</td>\n",
              "      <td>108</td>\n",
              "      <td>Kettle Tortilla ChpsHny&amp;Jlpno Chili 150g</td>\n",
              "      <td>5</td>\n",
              "      <td>23.0</td>\n",
              "      <td>YOUNG SINGLES/COUPLES</td>\n",
              "      <td>Budget</td>\n",
              "    </tr>\n",
              "  </tbody>\n",
              "</table>\n",
              "<p>86 rows × 9 columns</p>\n",
              "</div>"
            ],
            "text/plain": [
              "        STORE_NBR  LYLTY_CARD_NBR  ...               LIFESTAGE  PREMIUM_CUSTOMER\n",
              "37              8            8294  ...  MIDAGE SINGLES/COUPLES            Budget\n",
              "315            96           96203  ...  MIDAGE SINGLES/COUPLES            Budget\n",
              "25141          19           19186  ...            NEW FAMILIES            Budget\n",
              "25188          49           49360  ...            NEW FAMILIES            Budget\n",
              "32423          27           27179  ...          OLDER FAMILIES            Budget\n",
              "...           ...             ...  ...                     ...               ...\n",
              "188305        227          227174  ...          YOUNG FAMILIES            Budget\n",
              "188556        240          240096  ...          YOUNG FAMILIES            Budget\n",
              "188876        270          270127  ...          YOUNG FAMILIES            Budget\n",
              "228636         36           36221  ...   YOUNG SINGLES/COUPLES            Budget\n",
              "228825         79           79169  ...   YOUNG SINGLES/COUPLES            Budget\n",
              "\n",
              "[86 rows x 9 columns]"
            ]
          },
          "metadata": {
            "tags": []
          },
          "execution_count": 18
        }
      ]
    },
    {
      "cell_type": "markdown",
      "metadata": {
        "id": "V4ROovTVpS5o",
        "colab_type": "text"
      },
      "source": [
        "**TASK 2 QAUNTIUM VIRTUAL INTERN**\n",
        "</BR>\n",
        "This can be broken down by:\n",
        "*   total sales revenue\n",
        "*   total number of customers\n",
        "*   average number of transactions per customer\n",
        "\n",
        "Create a measure to compare different control stores to each of the trial stores to do this write a function to reduce having to re-do the analysis for each trial store. Consider using Pearson correlations or a metric such as a magnitude distance e.g. 1- (Observed distance – minimum distance)/(Maximum distance – minimum distance) as a measure.\n",
        "\n",
        "Once you have selected your control stores, compare each trial and control pair during the trial period. You want to test if total sales are significantly different in the trial period and if so, check if the driver of change is more purchasing customers or more purchases per customers"
      ]
    },
    {
      "cell_type": "code",
      "metadata": {
        "id": "KzyP-pM0qMXz",
        "colab_type": "code",
        "colab": {
          "base_uri": "https://localhost:8080/",
          "height": 35
        },
        "outputId": "d930f98b-726e-464b-da11-1d45192f0f5f"
      },
      "source": [
        "total_sales_revenue = merged_data['TOT_SALES'].sum()\n",
        "print(total_sales_revenue)"
      ],
      "execution_count": null,
      "outputs": [
        {
          "output_type": "stream",
          "text": [
            "20419.800000000003\n"
          ],
          "name": "stdout"
        }
      ]
    },
    {
      "cell_type": "code",
      "metadata": {
        "id": "YrQ1zxPsSqc5",
        "colab_type": "code",
        "colab": {
          "base_uri": "https://localhost:8080/",
          "height": 35
        },
        "outputId": "116b13e4-f3eb-4610-e937-1cdaf64b35af"
      },
      "source": [
        "count = 0\n",
        "int(count)\n",
        "for i in merged_data['PREMIUM_CUSTOMER']=='Budget':\n",
        "   count+=1\n",
        "for i in merged_data['PREMIUM_CUSTOMER']=='Premium':\n",
        "  count+=1\n",
        "for i in merged_data['PREMIUM_CUSTOMER']=='Mainstream':\n",
        "  count+=1\n",
        "\n",
        "print(\"Total Number of Customers {}\".format(count))"
      ],
      "execution_count": null,
      "outputs": [
        {
          "output_type": "stream",
          "text": [
            "Total Number of Customers 3837\n"
          ],
          "name": "stdout"
        }
      ]
    },
    {
      "cell_type": "code",
      "metadata": {
        "id": "8QRL7VS_fOG6",
        "colab_type": "code",
        "colab": {}
      },
      "source": [
        ""
      ],
      "execution_count": null,
      "outputs": []
    },
    {
      "cell_type": "code",
      "metadata": {
        "id": "dEbemuAuU4Ko",
        "colab_type": "code",
        "colab": {
          "base_uri": "https://localhost:8080/",
          "height": 235
        },
        "outputId": "ee7d8357-e448-4aaf-afdd-bf599cf9c902"
      },
      "source": [
        "lifestages=merged_data['LIFESTAGE']\n",
        "lifestages"
      ],
      "execution_count": null,
      "outputs": [
        {
          "output_type": "execute_result",
          "data": {
            "text/plain": [
              "1         MIDAGE SINGLES/COUPLES\n",
              "5         MIDAGE SINGLES/COUPLES\n",
              "6         MIDAGE SINGLES/COUPLES\n",
              "37        MIDAGE SINGLES/COUPLES\n",
              "56        MIDAGE SINGLES/COUPLES\n",
              "                   ...          \n",
              "259244     YOUNG SINGLES/COUPLES\n",
              "259312     YOUNG SINGLES/COUPLES\n",
              "259355     YOUNG SINGLES/COUPLES\n",
              "259385     YOUNG SINGLES/COUPLES\n",
              "259414     YOUNG SINGLES/COUPLES\n",
              "Name: LIFESTAGE, Length: 1279, dtype: object"
            ]
          },
          "metadata": {
            "tags": []
          },
          "execution_count": 37
        }
      ]
    },
    {
      "cell_type": "code",
      "metadata": {
        "id": "JUgIrqb9cN9q",
        "colab_type": "code",
        "colab": {
          "base_uri": "https://localhost:8080/",
          "height": 228
        },
        "outputId": "d905a049-a9e9-49b1-bb8f-903f6d70a8c6"
      },
      "source": [
        "merged_data.dropna()\n",
        "pearsoncorr = merged_data.corr(method='pearson')\n",
        "pearsoncorr"
      ],
      "execution_count": null,
      "outputs": [
        {
          "output_type": "execute_result",
          "data": {
            "text/html": [
              "<div>\n",
              "<style scoped>\n",
              "    .dataframe tbody tr th:only-of-type {\n",
              "        vertical-align: middle;\n",
              "    }\n",
              "\n",
              "    .dataframe tbody tr th {\n",
              "        vertical-align: top;\n",
              "    }\n",
              "\n",
              "    .dataframe thead th {\n",
              "        text-align: right;\n",
              "    }\n",
              "</style>\n",
              "<table border=\"1\" class=\"dataframe\">\n",
              "  <thead>\n",
              "    <tr style=\"text-align: right;\">\n",
              "      <th></th>\n",
              "      <th>STORE_NBR</th>\n",
              "      <th>LYLTY_CARD_NBR</th>\n",
              "      <th>TXN_ID</th>\n",
              "      <th>PROD_NBR</th>\n",
              "      <th>PROD_QTY</th>\n",
              "      <th>TOT_SALES</th>\n",
              "    </tr>\n",
              "  </thead>\n",
              "  <tbody>\n",
              "    <tr>\n",
              "      <th>STORE_NBR</th>\n",
              "      <td>1.000000</td>\n",
              "      <td>0.999999</td>\n",
              "      <td>0.999645</td>\n",
              "      <td>-0.008504</td>\n",
              "      <td>0.045372</td>\n",
              "      <td>0.053727</td>\n",
              "    </tr>\n",
              "    <tr>\n",
              "      <th>LYLTY_CARD_NBR</th>\n",
              "      <td>0.999999</td>\n",
              "      <td>1.000000</td>\n",
              "      <td>0.999650</td>\n",
              "      <td>-0.008528</td>\n",
              "      <td>0.045288</td>\n",
              "      <td>0.053671</td>\n",
              "    </tr>\n",
              "    <tr>\n",
              "      <th>TXN_ID</th>\n",
              "      <td>0.999645</td>\n",
              "      <td>0.999650</td>\n",
              "      <td>1.000000</td>\n",
              "      <td>-0.007796</td>\n",
              "      <td>0.044824</td>\n",
              "      <td>0.053099</td>\n",
              "    </tr>\n",
              "    <tr>\n",
              "      <th>PROD_NBR</th>\n",
              "      <td>-0.008504</td>\n",
              "      <td>-0.008528</td>\n",
              "      <td>-0.007796</td>\n",
              "      <td>1.000000</td>\n",
              "      <td>-0.060961</td>\n",
              "      <td>-0.083877</td>\n",
              "    </tr>\n",
              "    <tr>\n",
              "      <th>PROD_QTY</th>\n",
              "      <td>0.045372</td>\n",
              "      <td>0.045288</td>\n",
              "      <td>0.044824</td>\n",
              "      <td>-0.060961</td>\n",
              "      <td>1.000000</td>\n",
              "      <td>0.984276</td>\n",
              "    </tr>\n",
              "    <tr>\n",
              "      <th>TOT_SALES</th>\n",
              "      <td>0.053727</td>\n",
              "      <td>0.053671</td>\n",
              "      <td>0.053099</td>\n",
              "      <td>-0.083877</td>\n",
              "      <td>0.984276</td>\n",
              "      <td>1.000000</td>\n",
              "    </tr>\n",
              "  </tbody>\n",
              "</table>\n",
              "</div>"
            ],
            "text/plain": [
              "                STORE_NBR  LYLTY_CARD_NBR  ...  PROD_QTY  TOT_SALES\n",
              "STORE_NBR        1.000000        0.999999  ...  0.045372   0.053727\n",
              "LYLTY_CARD_NBR   0.999999        1.000000  ...  0.045288   0.053671\n",
              "TXN_ID           0.999645        0.999650  ...  0.044824   0.053099\n",
              "PROD_NBR        -0.008504       -0.008528  ... -0.060961  -0.083877\n",
              "PROD_QTY         0.045372        0.045288  ...  1.000000   0.984276\n",
              "TOT_SALES        0.053727        0.053671  ...  0.984276   1.000000\n",
              "\n",
              "[6 rows x 6 columns]"
            ]
          },
          "metadata": {
            "tags": []
          },
          "execution_count": 42
        }
      ]
    },
    {
      "cell_type": "code",
      "metadata": {
        "id": "miNfjgGQcQmf",
        "colab_type": "code",
        "colab": {
          "base_uri": "https://localhost:8080/",
          "height": 399
        },
        "outputId": "400ecfd7-251a-4bd6-bfe2-d0fe57a19e90"
      },
      "source": [
        "import seaborn as sb\n",
        "sb.heatmap(pearsoncorr, \n",
        "            xticklabels=pearsoncorr.columns,\n",
        "            yticklabels=pearsoncorr.columns,\n",
        "            cmap='RdBu_r',\n",
        "            annot=True,\n",
        "            linewidth=0.5)"
      ],
      "execution_count": null,
      "outputs": [
        {
          "output_type": "stream",
          "text": [
            "/usr/local/lib/python3.6/dist-packages/statsmodels/tools/_testing.py:19: FutureWarning: pandas.util.testing is deprecated. Use the functions in the public API at pandas.testing instead.\n",
            "  import pandas.util.testing as tm\n"
          ],
          "name": "stderr"
        },
        {
          "output_type": "execute_result",
          "data": {
            "text/plain": [
              "<matplotlib.axes._subplots.AxesSubplot at 0x7fe3b7271940>"
            ]
          },
          "metadata": {
            "tags": []
          },
          "execution_count": 43
        },
        {
          "output_type": "display_data",
          "data": {
            "image/png": "[encoded data removed]",
            "text/plain": [
              "<Figure size 432x288 with 2 Axes>"
            ]
          },
          "metadata": {
            "tags": [],
            "needs_background": "light"
          }
        }
      ]
    }
  ]
}