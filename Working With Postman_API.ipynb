{
  "nbformat": 4,
  "nbformat_minor": 0,
  "metadata": {
    "colab": {
      "name": "Postman API.ipynb",
      "provenance": [],
      "collapsed_sections": [],
      "authorship_tag": "ABX9TyMEDP0cZmXZ+FDcs54Mqbor",
      "include_colab_link": true
    },
    "kernelspec": {
      "name": "python3",
      "display_name": "Python 3"
    }
  },
  "cells": [
    {
      "cell_type": "markdown",
      "metadata": {
        "id": "view-in-github",
        "colab_type": "text"
      },
      "source": [
        "<a href=\"https://colab.research.google.com/github/Kushagratandon12/Introduction_to_tensorflow/blob/master/Working%20With%20Postman_API.ipynb\" target=\"_parent\"><img src=\"https://colab.research.google.com/assets/colab-badge.svg\" alt=\"Open In Colab\"/></a>"
      ]
    },
    {
      "cell_type": "code",
      "metadata": {
        "id": "lM6BIjyFz7il"
      },
      "source": [
        "# !pip install Flask\n",
        "# !pip install Flask_Cors\n",
        "\n",
        "#   {  \"recipents\": [\n",
        "#         \"kushagra.tandon.124@gmail.com\",\n",
        "#         \"kushagra.tandon.124@yahoo.com\"\n",
        "#     ]\n",
        "#\n",
        "# The above JSON can be send from the Postman and further this JSON can be Processed and Used For Different Purpose\n",
        "\n",
        "\n",
        "from flask import Flask, request\n",
        "from flask_cors import CORS, cross_origin\n",
        "import json\n",
        "\n",
        "app=Flask(__name__)\n",
        "cors = CORS(app)\n",
        "@cross_origin()\n",
        "@app.route('/',methods=['POST','GET'])\n",
        "def email_read():\n",
        "  jsonfile = request.json\n",
        "  print(jsonfile)\n",
        "  print(type(jsonfile))\n",
        "  return 'Email Notification System Working',200 \n",
        "\n",
        "if __name__ == '__main__':\n",
        "  app.run()"
      ],
      "execution_count": null,
      "outputs": []
    }
  ]
}