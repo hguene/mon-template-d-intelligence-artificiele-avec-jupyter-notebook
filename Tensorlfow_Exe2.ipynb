{
  "nbformat": 4,
  "nbformat_minor": 0,
  "metadata": {
    "colab": {
      "name": "Tensorlfow_Exe2.ipynb",
      "provenance": [],
      "collapsed_sections": [],
      "authorship_tag": "ABX9TyPdhBJzQem+Zj/qdAnxPvd2",
      "include_colab_link": true
    },
    "kernelspec": {
      "name": "python3",
      "display_name": "Python 3"
    },
    "accelerator": "GPU"
  },
  "cells": [
    {
      "cell_type": "markdown",
      "metadata": {
        "id": "view-in-github",
        "colab_type": "text"
      },
      "source": [
        "<a href=\"https://colab.research.google.com/github/Kushagratandon12/Introduction_to_tensorflow/blob/master/Tensorlfow_Exe2.ipynb\" target=\"_parent\"><img src=\"https://colab.research.google.com/assets/colab-badge.svg\" alt=\"Open In Colab\"/></a>"
      ]
    },
    {
      "cell_type": "code",
      "metadata": {
        "id": "A1cPVDb3LtJu",
        "colab_type": "code",
        "colab": {
          "base_uri": "https://localhost:8080/",
          "height": 108
        },
        "outputId": "e51cb8fe-de7a-44a4-eb0c-ef1780af759b"
      },
      "source": [
        "import pandas as pd\n",
        "import numpy as np\n",
        "from tensorflow import keras\n",
        "import tensorflow as tf\n",
        "print (tf.__version__)\n",
        "print (tf.test.is_gpu_available())"
      ],
      "execution_count": 1,
      "outputs": [
        {
          "output_type": "stream",
          "text": [
            "2.2.0\n",
            "WARNING:tensorflow:From <ipython-input-1-e26017ef4177>:6: is_gpu_available (from tensorflow.python.framework.test_util) is deprecated and will be removed in a future version.\n",
            "Instructions for updating:\n",
            "Use `tf.config.list_physical_devices('GPU')` instead.\n",
            "True\n"
          ],
          "name": "stdout"
        }
      ]
    },
    {
      "cell_type": "markdown",
      "metadata": {
        "id": "fj6Fd8FNNVbX",
        "colab_type": "text"
      },
      "source": [
        "During loading the data some of the data wil be used as the Training Data and another set of data will be used to Test the data\n",
        "therefore \n",
        "\n"
      ]
    },
    {
      "cell_type": "code",
      "metadata": {
        "id": "rnAPxbwoMDqY",
        "colab_type": "code",
        "colab": {
          "base_uri": "https://localhost:8080/",
          "height": 163
        },
        "outputId": "51252ff8-d13f-480c-bd86-21051b214282"
      },
      "source": [
        "fashion_mnist = keras.datasets.fashion_mnist\n",
        "(training_images,training_labes) , (test_images,test_labes) = fashion_mnist.load_data()"
      ],
      "execution_count": 2,
      "outputs": [
        {
          "output_type": "stream",
          "text": [
            "Downloading data from https://storage.googleapis.com/tensorflow/tf-keras-datasets/train-labels-idx1-ubyte.gz\n",
            "32768/29515 [=================================] - 0s 0us/step\n",
            "Downloading data from https://storage.googleapis.com/tensorflow/tf-keras-datasets/train-images-idx3-ubyte.gz\n",
            "26427392/26421880 [==============================] - 1s 0us/step\n",
            "Downloading data from https://storage.googleapis.com/tensorflow/tf-keras-datasets/t10k-labels-idx1-ubyte.gz\n",
            "8192/5148 [===============================================] - 0s 0us/step\n",
            "Downloading data from https://storage.googleapis.com/tensorflow/tf-keras-datasets/t10k-images-idx3-ubyte.gz\n",
            "4423680/4422102 [==============================] - 0s 0us/step\n"
          ],
          "name": "stdout"
        }
      ]
    },
    {
      "cell_type": "code",
      "metadata": {
        "id": "1TPJIY8XULd9",
        "colab_type": "code",
        "colab": {
          "base_uri": "https://localhost:8080/",
          "height": 72
        },
        "outputId": "6186f74b-9e44-4a2b-f33e-fe44c5a5f81a"
      },
      "source": [
        "print(type(fashion_mnist))\n",
        "print(len(training_images))\n",
        "print(len(test_images))"
      ],
      "execution_count": 3,
      "outputs": [
        {
          "output_type": "stream",
          "text": [
            "<class 'module'>\n",
            "60000\n",
            "10000\n"
          ],
          "name": "stdout"
        }
      ]
    },
    {
      "cell_type": "code",
      "metadata": {
        "id": "GnqBV1gKTYFG",
        "colab_type": "code",
        "colab": {
          "base_uri": "https://localhost:8080/",
          "height": 283
        },
        "outputId": "aaba95bf-f6be-46ed-e200-df7908140644"
      },
      "source": [
        "import matplotlib.pyplot as plt\n",
        "plt.imshow(training_images[10])"
      ],
      "execution_count": 4,
      "outputs": [
        {
          "output_type": "execute_result",
          "data": {
            "text/plain": [
              "<matplotlib.image.AxesImage at 0x7fbd012180f0>"
            ]
          },
          "metadata": {
            "tags": []
          },
          "execution_count": 4
        },
        {
          "output_type": "display_data",
          "data": {
            "image/png": "[encoded data removed]",
            "text/plain": [
              "<Figure size 432x288 with 1 Axes>"
            ]
          },
          "metadata": {
            "tags": [],
            "needs_background": "light"
          }
        }
      ]
    },
    {
      "cell_type": "markdown",
      "metadata": {
        "id": "MNJPHisNU6mI",
        "colab_type": "text"
      },
      "source": [
        "*Since All The Data Present Are In Range Of 0 to 255 therefore let's normalize the data *"
      ]
    },
    {
      "cell_type": "code",
      "metadata": {
        "id": "8piHocENVOhE",
        "colab_type": "code",
        "colab": {}
      },
      "source": [
        "training_images = training_images/255.0\n",
        "test_images=test_images/255.0"
      ],
      "execution_count": 0,
      "outputs": []
    },
    {
      "cell_type": "code",
      "metadata": {
        "id": "4L3p8XBHuS7q",
        "colab_type": "code",
        "colab": {}
      },
      "source": [
        "import tensorflow as tf"
      ],
      "execution_count": 0,
      "outputs": []
    },
    {
      "cell_type": "code",
      "metadata": {
        "id": "3lgmwvCrVZsq",
        "colab_type": "code",
        "colab": {}
      },
      "source": [
        "model = tf.keras.models.Sequential([keras.layers.Flatten(),\n",
        "                                 keras.layers.Dense(1024,activation=tf.nn.relu),\n",
        "                                 keras.layers.Dense(128,activation=tf.nn.relu),\n",
        "                                 keras.layers.Dense(10,activation=tf.nn.softmax)])"
      ],
      "execution_count": 0,
      "outputs": []
    },
    {
      "cell_type": "markdown",
      "metadata": {
        "id": "jNKewLf0CqSI",
        "colab_type": "text"
      },
      "source": [
        "*Sequential:* That defines a SEQUENCE of layers in the neural network\n",
        "\n",
        "*Flatten:* Remember earlier where our images were a square, when you printed them out? Flatten just takes that square and turns it into a 1 dimensional set.\n",
        "\n",
        "*Dense:* Adds a layer of neurons\n",
        "\n",
        "Each layer of neurons need an activation function to tell them what to do. There's lots of options, but just use these for now.\n",
        "\n",
        "*Relu effectively means* \"If X>0 return X, else return 0\" -- so what it does it it only passes values 0 or greater to the next layer in the network.\n",
        "\n",
        "Softmax takes a set of values, and effectively picks the biggest one, so, for example, if the output of the last layer looks like [0.1, 0.1, 0.05, 0.1, 9.5, 0.1, 0.05, 0.05, 0.05], it saves you from fishing through it looking for the biggest value, and turns it into [0,0,0,0,1,0,0,0,0] -- The goal is to save a lot of coding!"
      ]
    },
    {
      "cell_type": "code",
      "metadata": {
        "id": "Oj-cF2FLtqRg",
        "colab_type": "code",
        "colab": {
          "base_uri": "https://localhost:8080/",
          "height": 581
        },
        "outputId": "38911c60-f154-4da2-85a5-6fff7bf82cee"
      },
      "source": [
        "model.compile(optimizer = tf.optimizers.Adam(),\n",
        "              loss = 'sparse_categorical_crossentropy',metrics=['accuracy'])\n",
        "model.fit(training_images , training_labes,epochs=15,batch_size=10,)"
      ],
      "execution_count": 15,
      "outputs": [
        {
          "output_type": "stream",
          "text": [
            "Epoch 1/15\n",
            "6000/6000 [==============================] - 11s 2ms/step - loss: 0.4802 - accuracy: 0.8230\n",
            "Epoch 2/15\n",
            "6000/6000 [==============================] - 11s 2ms/step - loss: 0.3646 - accuracy: 0.8663\n",
            "Epoch 3/15\n",
            "6000/6000 [==============================] - 10s 2ms/step - loss: 0.3305 - accuracy: 0.8781\n",
            "Epoch 4/15\n",
            "6000/6000 [==============================] - 10s 2ms/step - loss: 0.3073 - accuracy: 0.8871\n",
            "Epoch 5/15\n",
            "6000/6000 [==============================] - 10s 2ms/step - loss: 0.2919 - accuracy: 0.8912\n",
            "Epoch 6/15\n",
            "6000/6000 [==============================] - 10s 2ms/step - loss: 0.2804 - accuracy: 0.8952\n",
            "Epoch 7/15\n",
            "6000/6000 [==============================] - 10s 2ms/step - loss: 0.2683 - accuracy: 0.8990\n",
            "Epoch 8/15\n",
            "6000/6000 [==============================] - 10s 2ms/step - loss: 0.2607 - accuracy: 0.9023\n",
            "Epoch 9/15\n",
            "6000/6000 [==============================] - 11s 2ms/step - loss: 0.2527 - accuracy: 0.9046\n",
            "Epoch 10/15\n",
            "6000/6000 [==============================] - 10s 2ms/step - loss: 0.2425 - accuracy: 0.9089\n",
            "Epoch 11/15\n",
            "6000/6000 [==============================] - 10s 2ms/step - loss: 0.2390 - accuracy: 0.9099\n",
            "Epoch 12/15\n",
            "6000/6000 [==============================] - 10s 2ms/step - loss: 0.2320 - accuracy: 0.9125\n",
            "Epoch 13/15\n",
            "6000/6000 [==============================] - 11s 2ms/step - loss: 0.2252 - accuracy: 0.9148\n",
            "Epoch 14/15\n",
            "6000/6000 [==============================] - 10s 2ms/step - loss: 0.2196 - accuracy: 0.9179\n",
            "Epoch 15/15\n",
            "6000/6000 [==============================] - 10s 2ms/step - loss: 0.2189 - accuracy: 0.9186\n"
          ],
          "name": "stdout"
        },
        {
          "output_type": "execute_result",
          "data": {
            "text/plain": [
              "<tensorflow.python.keras.callbacks.History at 0x7fbd001a1f60>"
            ]
          },
          "metadata": {
            "tags": []
          },
          "execution_count": 15
        }
      ]
    },
    {
      "cell_type": "code",
      "metadata": {
        "id": "IF2KPvFjA0uu",
        "colab_type": "code",
        "colab": {
          "base_uri": "https://localhost:8080/",
          "height": 54
        },
        "outputId": "b548eba0-8b51-4f9d-b6f2-bb866e52adcc"
      },
      "source": [
        "model.evaluate(test_images,test_labes)"
      ],
      "execution_count": 16,
      "outputs": [
        {
          "output_type": "stream",
          "text": [
            "313/313 [==============================] - 1s 2ms/step - loss: 0.4362 - accuracy: 0.8779\n"
          ],
          "name": "stdout"
        },
        {
          "output_type": "execute_result",
          "data": {
            "text/plain": [
              "[0.43621084094047546, 0.8779000043869019]"
            ]
          },
          "metadata": {
            "tags": []
          },
          "execution_count": 16
        }
      ]
    },
    {
      "cell_type": "code",
      "metadata": {
        "id": "PLBHRGPbB9L5",
        "colab_type": "code",
        "colab": {}
      },
      "source": [
        ""
      ],
      "execution_count": 0,
      "outputs": []
    }
  ]
}