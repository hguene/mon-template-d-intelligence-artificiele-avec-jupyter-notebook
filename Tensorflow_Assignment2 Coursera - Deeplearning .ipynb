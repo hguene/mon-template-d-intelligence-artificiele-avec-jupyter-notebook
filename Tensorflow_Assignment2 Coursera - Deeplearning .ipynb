{
  "nbformat": 4,
  "nbformat_minor": 0,
  "metadata": {
    "colab": {
      "name": "Tensorflow_Assignment2.ipynb",
      "provenance": [],
      "authorship_tag": "ABX9TyOZaw1JEfw0l32e2SQkaOF4",
      "include_colab_link": true
    },
    "kernelspec": {
      "name": "python3",
      "display_name": "Python 3"
    }
  },
  "cells": [
    {
      "cell_type": "markdown",
      "metadata": {
        "id": "view-in-github",
        "colab_type": "text"
      },
      "source": [
        "<a href=\"https://colab.research.google.com/github/Kushagratandon12/Machine-Learning-Projects/blob/master/Tensorflow_Assignment2%20Coursera%20-%20Deeplearning%20.ipynb\" target=\"_parent\"><img src=\"https://colab.research.google.com/assets/colab-badge.svg\" alt=\"Open In Colab\"/></a>"
      ]
    },
    {
      "cell_type": "code",
      "metadata": {
        "id": "2vj9tbrnzG4-",
        "colab": {
          "base_uri": "https://localhost:8080/",
          "height": 35
        },
        "outputId": "f9271cc2-e95c-405a-8d8a-227aa71d121a"
      },
      "source": [
        "import tensorflow as tf\n",
        "import pandas as pd\n",
        "import numpy as np\n",
        "from tensorflow import keras\n",
        "print (tf.__version__)\n",
        "mnist = tf.keras.datasets.mnist"
      ],
      "execution_count": null,
      "outputs": [
        {
          "output_type": "stream",
          "text": [
            "2.2.0\n"
          ],
          "name": "stdout"
        }
      ]
    },
    {
      "cell_type": "code",
      "metadata": {
        "id": "ifRhnNY0zOM7",
        "colab": {
          "base_uri": "https://localhost:8080/",
          "height": 54
        },
        "outputId": "9b5c06dd-845e-46d2-a41a-409424921b31"
      },
      "source": [
        "(training_data , training_labels),(test_data,test_label) = mnist.load_data()"
      ],
      "execution_count": null,
      "outputs": [
        {
          "output_type": "stream",
          "text": [
            "Downloading data from https://storage.googleapis.com/tensorflow/tf-keras-datasets/mnist.npz\n",
            "11493376/11490434 [==============================] - 0s 0us/step\n"
          ],
          "name": "stdout"
        }
      ]
    },
    {
      "cell_type": "code",
      "metadata": {
        "id": "uei0Yle-5wnF",
        "colab": {
          "base_uri": "https://localhost:8080/",
          "height": 35
        },
        "outputId": "6407b2e9-e596-425b-8e3c-e0075636c22e"
      },
      "source": [
        "len(training_data[0])"
      ],
      "execution_count": null,
      "outputs": [
        {
          "output_type": "execute_result",
          "data": {
            "text/plain": [
              "28"
            ]
          },
          "metadata": {
            "tags": []
          },
          "execution_count": 5
        }
      ]
    },
    {
      "cell_type": "code",
      "metadata": {
        "id": "IdDhyhOgzVp2",
        "colab": {
          "base_uri": "https://localhost:8080/",
          "height": 1000
        },
        "outputId": "ff4e9c77-1c1b-4c42-bd26-a1569113e8a5"
      },
      "source": [
        "import matplotlib.pyplot as plt\n",
        "plt.imshow(training_data[4])\n",
        "print(training_data[4])"
      ],
      "execution_count": null,
      "outputs": [
        {
          "output_type": "stream",
          "text": [
            "[[  0   0   0   0   0   0   0   0   0   0   0   0   0   0   0   0   0   0\n",
            "    0   0   0   0   0   0   0   0   0   0]\n",
            " [  0   0   0   0   0   0   0   0   0   0   0   0   0   0   0   0   0   0\n",
            "    0   0   0   0   0   0   0   0   0   0]\n",
            " [  0   0   0   0   0   0   0   0   0   0   0   0   0   0   0   0   0   0\n",
            "    0   0   0   0   0   0   0   0   0   0]\n",
            " [  0   0   0   0   0   0   0   0   0   0   0   0   0   0   0   0   0   0\n",
            "    0   0   0   0   0   0   0   0   0   0]\n",
            " [  0   0   0   0   0   0   0   0   0   0   0   0   0   0   0   0   0   0\n",
            "    0   0   0   0   0   0   0   0   0   0]\n",
            " [  0   0   0   0   0   0   0   0   0   0   0   0   0   0   0   0   0   0\n",
            "    0   0   0   0   0   0   0   0   0   0]\n",
            " [  0   0   0   0   0   0   0   0   0   0   0   0   0   0   0   0   0   0\n",
            "    0   0   0   0   0   0   0   0   0   0]\n",
            " [  0   0   0   0   0   0   0   0   0   0   0   0  55 148 210 253 253 113\n",
            "   87 148  55   0   0   0   0   0   0   0]\n",
            " [  0   0   0   0   0   0   0   0   0   0   0  87 232 252 253 189 210 252\n",
            "  252 253 168   0   0   0   0   0   0   0]\n",
            " [  0   0   0   0   0   0   0   0   0   4  57 242 252 190  65   5  12 182\n",
            "  252 253 116   0   0   0   0   0   0   0]\n",
            " [  0   0   0   0   0   0   0   0   0  96 252 252 183  14   0   0  92 252\n",
            "  252 225  21   0   0   0   0   0   0   0]\n",
            " [  0   0   0   0   0   0   0   0 132 253 252 146  14   0   0   0 215 252\n",
            "  252  79   0   0   0   0   0   0   0   0]\n",
            " [  0   0   0   0   0   0   0 126 253 247 176   9   0   0   8  78 245 253\n",
            "  129   0   0   0   0   0   0   0   0   0]\n",
            " [  0   0   0   0   0   0  16 232 252 176   0   0   0  36 201 252 252 169\n",
            "   11   0   0   0   0   0   0   0   0   0]\n",
            " [  0   0   0   0   0   0  22 252 252  30  22 119 197 241 253 252 251  77\n",
            "    0   0   0   0   0   0   0   0   0   0]\n",
            " [  0   0   0   0   0   0  16 231 252 253 252 252 252 226 227 252 231   0\n",
            "    0   0   0   0   0   0   0   0   0   0]\n",
            " [  0   0   0   0   0   0   0  55 235 253 217 138  42  24 192 252 143   0\n",
            "    0   0   0   0   0   0   0   0   0   0]\n",
            " [  0   0   0   0   0   0   0   0   0   0   0   0   0  62 255 253 109   0\n",
            "    0   0   0   0   0   0   0   0   0   0]\n",
            " [  0   0   0   0   0   0   0   0   0   0   0   0   0  71 253 252  21   0\n",
            "    0   0   0   0   0   0   0   0   0   0]\n",
            " [  0   0   0   0   0   0   0   0   0   0   0   0   0   0 253 252  21   0\n",
            "    0   0   0   0   0   0   0   0   0   0]\n",
            " [  0   0   0   0   0   0   0   0   0   0   0   0   0  71 253 252  21   0\n",
            "    0   0   0   0   0   0   0   0   0   0]\n",
            " [  0   0   0   0   0   0   0   0   0   0   0   0   0 106 253 252  21   0\n",
            "    0   0   0   0   0   0   0   0   0   0]\n",
            " [  0   0   0   0   0   0   0   0   0   0   0   0   0  45 255 253  21   0\n",
            "    0   0   0   0   0   0   0   0   0   0]\n",
            " [  0   0   0   0   0   0   0   0   0   0   0   0   0   0 218 252  56   0\n",
            "    0   0   0   0   0   0   0   0   0   0]\n",
            " [  0   0   0   0   0   0   0   0   0   0   0   0   0   0  96 252 189  42\n",
            "    0   0   0   0   0   0   0   0   0   0]\n",
            " [  0   0   0   0   0   0   0   0   0   0   0   0   0   0  14 184 252 170\n",
            "   11   0   0   0   0   0   0   0   0   0]\n",
            " [  0   0   0   0   0   0   0   0   0   0   0   0   0   0   0  14 147 252\n",
            "   42   0   0   0   0   0   0   0   0   0]\n",
            " [  0   0   0   0   0   0   0   0   0   0   0   0   0   0   0   0   0   0\n",
            "    0   0   0   0   0   0   0   0   0   0]]\n"
          ],
          "name": "stdout"
        },
        {
          "output_type": "display_data",
          "data": {
            "image/png": "[encoded data removed]",
            "text/plain": [
              "<Figure size 432x288 with 1 Axes>"
            ]
          },
          "metadata": {
            "tags": [],
            "needs_background": "light"
          }
        }
      ]
    },
    {
      "cell_type": "code",
      "metadata": {
        "id": "e5Q7W5Ey5YU4",
        "colab": {
          "base_uri": "https://localhost:8080/",
          "height": 35
        },
        "outputId": "6202c907-b696-47bd-d199-8d25d07577e3"
      },
      "source": [
        "#Normalizing the Data Set \n",
        "training_data = training_data/255\n",
        "test_data=test_data/255\n",
        "print(training_labels)"
      ],
      "execution_count": null,
      "outputs": [
        {
          "output_type": "stream",
          "text": [
            "[5 0 4 ... 5 6 8]\n"
          ],
          "name": "stdout"
        }
      ]
    },
    {
      "cell_type": "code",
      "metadata": {
        "id": "T9TGUh5i6H0_"
      },
      "source": [
        "model = tf.keras.models.Sequential([keras.layers.Flatten(),\n",
        "                                    keras.layers.Dense(1024,activation=tf.nn.relu),\n",
        "                                    keras.layers.Dense(10,activation=tf.nn.softmax)\n",
        "                                    ])\n"
      ],
      "execution_count": null,
      "outputs": []
    },
    {
      "cell_type": "code",
      "metadata": {
        "id": "YBHH6r4rfAZK"
      },
      "source": [
        "class myCallback(tf.keras.callbacks.Callback):\n",
        "    def on_epoch_end(self, epoch, logs={}):\n",
        "        if(logs.get('accuracy')>0.99):\n",
        "            print(\"\\nReached 99% accuracy so cancelling training!\")\n",
        "            self.model.stop_training = True\n",
        "\n",
        "\n",
        "#calling the class \n",
        "callbacks=myCallback()"
      ],
      "execution_count": null,
      "outputs": []
    },
    {
      "cell_type": "code",
      "metadata": {
        "id": "wInNgCT2Vwyp",
        "colab": {
          "base_uri": "https://localhost:8080/",
          "height": 254
        },
        "outputId": "d7996e28-cfab-40c9-d205-749c3f91f1de"
      },
      "source": [
        "model.compile(optimizer = tf.optimizers.Adam(),\n",
        "              loss = 'sparse_categorical_crossentropy',metrics=['accuracy'])\n",
        "model.fit(training_data,training_labels,epochs=10,batch_size=10,callbacks=[callbacks])"
      ],
      "execution_count": null,
      "outputs": [
        {
          "output_type": "stream",
          "text": [
            "Epoch 1/10\n",
            "6000/6000 [==============================] - 25s 4ms/step - loss: 0.0806 - accuracy: 0.9761\n",
            "Epoch 2/10\n",
            "6000/6000 [==============================] - 25s 4ms/step - loss: 0.0551 - accuracy: 0.9829\n",
            "Epoch 3/10\n",
            "6000/6000 [==============================] - 25s 4ms/step - loss: 0.0443 - accuracy: 0.9868\n",
            "Epoch 4/10\n",
            "6000/6000 [==============================] - 25s 4ms/step - loss: 0.0385 - accuracy: 0.9885\n",
            "Epoch 5/10\n",
            "5997/6000 [============================>.] - ETA: 0s - loss: 0.0318 - accuracy: 0.9907\n",
            "Reached 99% accuracy so cancelling training!\n",
            "6000/6000 [==============================] - 25s 4ms/step - loss: 0.0318 - accuracy: 0.9907\n"
          ],
          "name": "stdout"
        },
        {
          "output_type": "execute_result",
          "data": {
            "text/plain": [
              "<tensorflow.python.keras.callbacks.History at 0x7f7e6c3b8630>"
            ]
          },
          "metadata": {
            "tags": []
          },
          "execution_count": 24
        }
      ]
    },
    {
      "cell_type": "code",
      "metadata": {
        "id": "LlvOYDTa8TU3",
        "colab": {
          "base_uri": "https://localhost:8080/",
          "height": 54
        },
        "outputId": "40a42789-6080-47bb-eeee-9c0f7b4efdc1"
      },
      "source": [
        "model.evaluate(test_data,test_label)"
      ],
      "execution_count": null,
      "outputs": [
        {
          "output_type": "stream",
          "text": [
            "313/313 [==============================] - 1s 3ms/step - loss: 0.0708 - accuracy: 0.9794\n"
          ],
          "name": "stdout"
        },
        {
          "output_type": "execute_result",
          "data": {
            "text/plain": [
              "[0.07080685347318649, 0.9793999791145325]"
            ]
          },
          "metadata": {
            "tags": []
          },
          "execution_count": 8
        }
      ]
    },
    {
      "cell_type": "code",
      "metadata": {
        "id": "6t9mHpmw-pHn"
      },
      "source": [
        ""
      ],
      "execution_count": null,
      "outputs": []
    }
  ]
}