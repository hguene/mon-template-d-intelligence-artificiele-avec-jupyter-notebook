{
  "nbformat": 4,
  "nbformat_minor": 0,
  "metadata": {
    "colab": {
      "name": "Classification Happy & Sad.ipynb",
      "provenance": [],
      "authorship_tag": "ABX9TyOkcns6pT3rKbldOnYn4907",
      "include_colab_link": true
    },
    "kernelspec": {
      "name": "python3",
      "display_name": "Python 3"
    },
    "accelerator": "GPU"
  },
  "cells": [
    {
      "cell_type": "markdown",
      "metadata": {
        "id": "view-in-github",
        "colab_type": "text"
      },
      "source": [
        "<a href=\"https://colab.research.google.com/github/Kushagratandon12/Machine-Learning-Projects/blob/master/Classification_Happy_%26_Sad.ipynb\" target=\"_parent\"><img src=\"https://colab.research.google.com/assets/colab-badge.svg\" alt=\"Open In Colab\"/></a>"
      ]
    },
    {
      "cell_type": "code",
      "metadata": {
        "id": "9ze3VpN5CFf3",
        "colab": {
          "base_uri": "https://localhost:8080/",
          "height": 217
        },
        "outputId": "9926673c-fc48-4eb0-c50e-1b33b1a3a457"
      },
      "source": [
        "import os\n",
        "import zipfile\n",
        "\n",
        "\n",
        "DESIRED_ACCURACY = 0.999\n",
        "\n",
        "!wget --no-check-certificate \\\n",
        "    \"https://storage.googleapis.com/laurencemoroney-blog.appspot.com/happy-or-sad.zip\" \\\n",
        "    -O \"/tmp/happy-or-sad.zip\"\n",
        "\n",
        "local_zip = '/tmp/happy-or-sad.zip'\n",
        "zip_ref = zipfile.ZipFile(\"/tmp/happy-or-sad.zip\", 'r')\n",
        "zip_ref.extractall(\"/tmp/h-or-s\")\n",
        "zip_ref.close()"
      ],
      "execution_count": null,
      "outputs": [
        {
          "output_type": "stream",
          "text": [
            "--2020-06-14 07:39:42--  https://storage.googleapis.com/laurencemoroney-blog.appspot.com/happy-or-sad.zip\n",
            "Resolving storage.googleapis.com (storage.googleapis.com)... 108.177.125.128, 2404:6800:4008:c07::80\n",
            "Connecting to storage.googleapis.com (storage.googleapis.com)|108.177.125.128|:443... connected.\n",
            "HTTP request sent, awaiting response... 200 OK\n",
            "Length: 2670333 (2.5M) [application/zip]\n",
            "Saving to: ‘/tmp/happy-or-sad.zip’\n",
            "\n",
            "\r/tmp/happy-or-sad.z   0%[                    ]       0  --.-KB/s               \r/tmp/happy-or-sad.z 100%[===================>]   2.55M  --.-KB/s    in 0.04s   \n",
            "\n",
            "2020-06-14 07:39:42 (60.0 MB/s) - ‘/tmp/happy-or-sad.zip’ saved [2670333/2670333]\n",
            "\n"
          ],
          "name": "stdout"
        }
      ]
    },
    {
      "cell_type": "code",
      "metadata": {
        "id": "wCtQzMdcCaU4"
      },
      "source": [
        "train_sad_dir = os.path.join(\"/tmp/h-or-s/sad\")\n",
        "train_happy_dir = os.path.join(\"/tmp/h-or-s/happy\")\n",
        "cls_dict = {'0':'sad','1':'happy'}"
      ],
      "execution_count": null,
      "outputs": []
    },
    {
      "cell_type": "code",
      "metadata": {
        "id": "VbCMuHkcEGLy",
        "colab": {
          "base_uri": "https://localhost:8080/",
          "height": 54
        },
        "outputId": "326c7215-e3df-4a67-bd13-577ab5747b34"
      },
      "source": [
        "#Now Let's List The Data Present \n",
        "#Sad Images Directory - open and save in sad_images\n",
        "sad_images = os.listdir(train_sad_dir)\n",
        "print(sad_images[:10])\n",
        "#Happy Images Directory - open and save in happy_images\n",
        "happy_images =os.listdir(train_happy_dir)\n",
        "print(happy_images[:10])"
      ],
      "execution_count": null,
      "outputs": [
        {
          "output_type": "stream",
          "text": [
            "['sad2-03.png', 'sad1-12.png', 'sad1-00.png', 'sad2-04.png', 'sad2-06.png', 'sad2-07.png', 'sad2-00.png', 'sad1-11.png', 'sad1-15.png', 'sad1-06.png']\n",
            "['happy1-00.png', 'happy2-11.png', 'happy1-12.png', 'happy1-01.png', 'happy1-13.png', 'happy2-03.png', 'happy2-02.png', 'happy1-07.png', 'happy1-11.png', 'happy2-01.png']\n"
          ],
          "name": "stdout"
        }
      ]
    },
    {
      "cell_type": "code",
      "metadata": {
        "id": "jQd65KgCE3QX",
        "colab": {
          "base_uri": "https://localhost:8080/",
          "height": 54
        },
        "outputId": "d635825c-1ed5-48f8-da18-bce9023cea9a"
      },
      "source": [
        "print('Sad Images Length {} '.format(len(sad_images)))\n",
        "print('Happy Images Length ' + str(len(happy_images)))\n"
      ],
      "execution_count": null,
      "outputs": [
        {
          "output_type": "stream",
          "text": [
            "Sad Images Length 40 \n",
            "Happy Images Length 40\n"
          ],
          "name": "stdout"
        }
      ]
    },
    {
      "cell_type": "code",
      "metadata": {
        "id": "RyrNl8EzV6qs"
      },
      "source": [
        "#Import Tensorflow - Starting Code\n",
        "import tensorflow as tf\n",
        "from sklearn.utils import shuffle"
      ],
      "execution_count": null,
      "outputs": []
    },
    {
      "cell_type": "code",
      "metadata": {
        "id": "SPnK2tfjWY7A"
      },
      "source": [
        "model = tf.keras.models.Sequential([\n",
        "    # Note the input shape is the desired size of the image 150x150 with 3 bytes color\n",
        "    # This is the first convolution\n",
        "    tf.keras.layers.Conv2D(8, (3,3), activation='relu', input_shape=(150, 150, 3)),\n",
        "    tf.keras.layers.MaxPooling2D(2, 2),\n",
        "    # The second convolution\n",
        "    tf.keras.layers.Conv2D(8, (3,3), activation='relu'),\n",
        "    tf.keras.layers.MaxPooling2D(2,2),\n",
        "    # The third convolution\n",
        "    tf.keras.layers.Conv2D(16, (3,3), activation='relu'),\n",
        "    tf.keras.layers.MaxPooling2D(2,2),\n",
        "    # Flatten the results to feed into a DNN\n",
        "    tf.keras.layers.Flatten(),\n",
        "    # 512 neuron hidden layer\n",
        "    tf.keras.layers.Dense(32, activation='relu'),\n",
        "    # Only 1 output neuron. It will contain a value from 0-1 where 0 for 1 class ('horses') and 1 for the other ('humans')\n",
        "    tf.keras.layers.Dense(1, activation='softmax') # claculating probability between - o and 1 \n",
        "])"
      ],
      "execution_count": null,
      "outputs": []
    },
    {
      "cell_type": "code",
      "metadata": {
        "id": "ysXqelh7a0L6",
        "colab": {
          "base_uri": "https://localhost:8080/",
          "height": 490
        },
        "outputId": "9f5c9c87-62aa-40d0-da26-969324c9dd65"
      },
      "source": [
        "model.summary()"
      ],
      "execution_count": null,
      "outputs": [
        {
          "output_type": "stream",
          "text": [
            "Model: \"sequential_5\"\n",
            "_________________________________________________________________\n",
            "Layer (type)                 Output Shape              Param #   \n",
            "=================================================================\n",
            "conv2d_15 (Conv2D)           (None, 148, 148, 8)       224       \n",
            "_________________________________________________________________\n",
            "max_pooling2d_15 (MaxPooling (None, 74, 74, 8)         0         \n",
            "_________________________________________________________________\n",
            "conv2d_16 (Conv2D)           (None, 72, 72, 8)         584       \n",
            "_________________________________________________________________\n",
            "max_pooling2d_16 (MaxPooling (None, 36, 36, 8)         0         \n",
            "_________________________________________________________________\n",
            "conv2d_17 (Conv2D)           (None, 34, 34, 16)        1168      \n",
            "_________________________________________________________________\n",
            "max_pooling2d_17 (MaxPooling (None, 17, 17, 16)        0         \n",
            "_________________________________________________________________\n",
            "flatten_5 (Flatten)          (None, 4624)              0         \n",
            "_________________________________________________________________\n",
            "dense_10 (Dense)             (None, 32)                148000    \n",
            "_________________________________________________________________\n",
            "dense_11 (Dense)             (None, 1)                 33        \n",
            "=================================================================\n",
            "Total params: 150,009\n",
            "Trainable params: 150,009\n",
            "Non-trainable params: 0\n",
            "_________________________________________________________________\n"
          ],
          "name": "stdout"
        }
      ]
    },
    {
      "cell_type": "code",
      "metadata": {
        "id": "EqDXkeggbI5f"
      },
      "source": [
        "#We Can Use the Adamoptimizer also but where adam optimizers adjust learning rate by itself we can add self learning rate in RMSprop\n",
        "from tensorflow.keras.optimizers import RMSprop ,Adam\n",
        "\n",
        "model.compile(loss='binary_crossentropy',\n",
        "              optimizer=Adam(lr=0.0001),\n",
        "              metrics=['accuracy'])"
      ],
      "execution_count": null,
      "outputs": []
    },
    {
      "cell_type": "code",
      "metadata": {
        "id": "Xu5spqsTbcEP",
        "colab": {
          "base_uri": "https://localhost:8080/",
          "height": 90
        },
        "outputId": "7fac01e3-e1ee-4bdd-b196-88aee4d0d234"
      },
      "source": [
        "from tensorflow.keras.preprocessing.image import ImageDataGenerator\n",
        "\n",
        "# All images will be rescaled by 1./255\n",
        "train_datagen = ImageDataGenerator(rescale=1/255)\n",
        "\n",
        "# Flow training images in batches of 128 using train_datagen generator\n",
        "train_generator = train_datagen.flow_from_directory(\n",
        "        '/tmp/h-or-s/',  # This is the source directory for training images\n",
        "        target_size=(150, 150),  # All images will be resized to 150x150\n",
        "        batch_size=10,\n",
        "        # Since we use binary_crossentropy loss, we need binary labels\n",
        "        class_mode='binary')\n",
        "print(train_generator.classes)"
      ],
      "execution_count": null,
      "outputs": [
        {
          "output_type": "stream",
          "text": [
            "Found 80 images belonging to 2 classes.\n",
            "[0 0 0 0 0 0 0 0 0 0 0 0 0 0 0 0 0 0 0 0 0 0 0 0 0 0 0 0 0 0 0 0 0 0 0 0 0\n",
            " 0 0 0 1 1 1 1 1 1 1 1 1 1 1 1 1 1 1 1 1 1 1 1 1 1 1 1 1 1 1 1 1 1 1 1 1 1\n",
            " 1 1 1 1 1 1]\n"
          ],
          "name": "stdout"
        }
      ]
    },
    {
      "cell_type": "code",
      "metadata": {
        "id": "5vaeQS-xpRhz"
      },
      "source": [
        "class myCallback(tf.keras.callbacks.Callback):\n",
        "    def on_epoch_end(self, epoch, logs={}):\n",
        "        if(logs.get('accuracy')>0.99):\n",
        "            print(\"\\nReached 99% accuracy so cancelling training!\")\n",
        "            self.model.stop_training = True\n",
        "            \n",
        "#calling the class \n",
        "callbacks=myCallback()"
      ],
      "execution_count": null,
      "outputs": []
    },
    {
      "cell_type": "code",
      "metadata": {
        "id": "1QfSOCEHbm3R",
        "colab": {
          "base_uri": "https://localhost:8080/",
          "height": 635
        },
        "outputId": "ea19a0d2-656d-4aa1-91b6-951696173c06"
      },
      "source": [
        "history = model.fit(\n",
        "      train_generator,  \n",
        "      steps_per_epoch=8,\n",
        "      epochs=20,\n",
        "      verbose=1,callbacks=[callbacks])"
      ],
      "execution_count": null,
      "outputs": [
        {
          "output_type": "stream",
          "text": [
            "Epoch 1/20\n",
            "8/8 [==============================] - 0s 18ms/step - loss: 0.1241 - accuracy: 0.9500\n",
            "Epoch 2/20\n",
            "8/8 [==============================] - 0s 21ms/step - loss: 0.1156 - accuracy: 0.9500\n",
            "Epoch 3/20\n",
            "8/8 [==============================] - 0s 19ms/step - loss: 0.1084 - accuracy: 0.9500\n",
            "Epoch 4/20\n",
            "8/8 [==============================] - 0s 18ms/step - loss: 0.1013 - accuracy: 0.9500\n",
            "Epoch 5/20\n",
            "8/8 [==============================] - 0s 19ms/step - loss: 0.0975 - accuracy: 0.9625\n",
            "Epoch 6/20\n",
            "8/8 [==============================] - 0s 18ms/step - loss: 0.0922 - accuracy: 0.9625\n",
            "Epoch 7/20\n",
            "8/8 [==============================] - 0s 19ms/step - loss: 0.0874 - accuracy: 0.9625\n",
            "Epoch 8/20\n",
            "8/8 [==============================] - 0s 19ms/step - loss: 0.0852 - accuracy: 0.9500\n",
            "Epoch 9/20\n",
            "8/8 [==============================] - 0s 19ms/step - loss: 0.0808 - accuracy: 0.9625\n",
            "Epoch 10/20\n",
            "8/8 [==============================] - 0s 19ms/step - loss: 0.0803 - accuracy: 0.9750\n",
            "Epoch 11/20\n",
            "8/8 [==============================] - 0s 19ms/step - loss: 0.0745 - accuracy: 0.9750\n",
            "Epoch 12/20\n",
            "8/8 [==============================] - 0s 19ms/step - loss: 0.0717 - accuracy: 0.9625\n",
            "Epoch 13/20\n",
            "8/8 [==============================] - 0s 19ms/step - loss: 0.0705 - accuracy: 0.9625\n",
            "Epoch 14/20\n",
            "8/8 [==============================] - 0s 19ms/step - loss: 0.0692 - accuracy: 0.9625\n",
            "Epoch 15/20\n",
            "8/8 [==============================] - 0s 17ms/step - loss: 0.0641 - accuracy: 0.9750\n",
            "Epoch 16/20\n",
            "7/8 [=========================>....] - ETA: 0s - loss: 0.0563 - accuracy: 1.0000\n",
            "Reached 99% accuracy so cancelling training!\n",
            "8/8 [==============================] - 0s 18ms/step - loss: 0.0625 - accuracy: 1.0000\n"
          ],
          "name": "stdout"
        }
      ]
    },
    {
      "cell_type": "code",
      "metadata": {
        "id": "SNtaWDzhbp59"
      },
      "source": [
        ""
      ],
      "execution_count": null,
      "outputs": []
    }
  ]
}